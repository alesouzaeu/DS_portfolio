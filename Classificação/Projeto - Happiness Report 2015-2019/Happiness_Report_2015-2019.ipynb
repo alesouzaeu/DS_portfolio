{
 "cells": [
  {
   "cell_type": "code",
   "execution_count": 2,
   "metadata": {},
   "outputs": [],
   "source": [
    "import pandas as pd\n",
    "import numpy as np\n",
    "\n",
    "%matplotlib inline"
   ]
  },
  {
   "cell_type": "code",
   "execution_count": 3,
   "metadata": {},
   "outputs": [],
   "source": [
    "import matplotlib.pyplot as plt\n",
    "import seaborn as sns"
   ]
  },
  {
   "cell_type": "code",
   "execution_count": 4,
   "metadata": {},
   "outputs": [],
   "source": [
    "df_2015 = pd.read_csv('2015.csv')\n",
    "df_2016 = pd.read_csv('2016.csv')\n",
    "df_2017 = pd.read_csv('2017.csv')\n",
    "df_2018 = pd.read_csv('2018.csv')\n",
    "df_2019 = pd.read_csv('2019.csv')"
   ]
  },
  {
   "cell_type": "code",
   "execution_count": 5,
   "metadata": {},
   "outputs": [],
   "source": [
    "df_2015.columns = ['Country','Region','Happiness Rank','Happiness Score','STD','GDP','Family','Health','Freedom','Corruption','Generosity','Dystopia']"
   ]
  },
  {
   "cell_type": "code",
   "execution_count": 6,
   "metadata": {},
   "outputs": [],
   "source": [
    "df_2015 = df_2015.drop(['STD','Dystopia'],axis=1)"
   ]
  },
  {
   "cell_type": "code",
   "execution_count": 7,
   "metadata": {},
   "outputs": [],
   "source": [
    "df_2016.columns = ['Country','Region','Happiness Rank','Happiness Score','STD1','STD2','GDP','Family','Health','Freedom','Corruption','Generosity','Dystopia']"
   ]
  },
  {
   "cell_type": "code",
   "execution_count": 8,
   "metadata": {},
   "outputs": [],
   "source": [
    "df_2016 = df_2016.drop(['STD1','STD2','Dystopia'],axis=1)"
   ]
  },
  {
   "cell_type": "code",
   "execution_count": 9,
   "metadata": {},
   "outputs": [],
   "source": [
    "df_2017.columns = ['Country','Happiness Rank','Happiness Score','STD1','STD2','GDP','Family','Health','Freedom','Generosity','Corruption','Dystopia']"
   ]
  },
  {
   "cell_type": "code",
   "execution_count": 10,
   "metadata": {},
   "outputs": [],
   "source": [
    "df_2017 = df_2017.drop(['STD1','STD2','Dystopia'],axis=1)"
   ]
  },
  {
   "cell_type": "code",
   "execution_count": 11,
   "metadata": {},
   "outputs": [],
   "source": [
    "df_2017 = df_2017.merge(df_2016[['Country','Region']],on='Country',how='left')"
   ]
  },
  {
   "cell_type": "code",
   "execution_count": 12,
   "metadata": {},
   "outputs": [],
   "source": [
    "df_2018.columns = ['Happiness Rank','Country','Happiness Score','GDP','Family','Health','Freedom','Generosity','Corruption']"
   ]
  },
  {
   "cell_type": "code",
   "execution_count": 13,
   "metadata": {},
   "outputs": [],
   "source": [
    "df_2018 = df_2018.merge(df_2016[['Country','Region']],on='Country',how='left')"
   ]
  },
  {
   "cell_type": "code",
   "execution_count": 14,
   "metadata": {},
   "outputs": [],
   "source": [
    "df_2019.columns = ['Happiness Rank','Country','Happiness Score','GDP','Family','Health','Freedom','Generosity','Corruption']"
   ]
  },
  {
   "cell_type": "code",
   "execution_count": 15,
   "metadata": {},
   "outputs": [],
   "source": [
    "df_2019 = df_2019.merge(df_2016[['Country','Region']],on='Country',how='left')"
   ]
  },
  {
   "cell_type": "code",
   "execution_count": 16,
   "metadata": {},
   "outputs": [],
   "source": [
    "df = pd.concat([df_2015,df_2016,df_2017,df_2018,df_2019])"
   ]
  },
  {
   "cell_type": "code",
   "execution_count": 17,
   "metadata": {},
   "outputs": [],
   "source": [
    "df = df.dropna()"
   ]
  },
  {
   "cell_type": "code",
   "execution_count": 18,
   "metadata": {},
   "outputs": [],
   "source": [
    "df = df.groupby(['Country','Region']).mean()"
   ]
  },
  {
   "cell_type": "code",
   "execution_count": 19,
   "metadata": {},
   "outputs": [],
   "source": [
    "df = df.reset_index()"
   ]
  },
  {
   "cell_type": "code",
   "execution_count": 20,
   "metadata": {},
   "outputs": [],
   "source": [
    "df = df.drop(['Country', 'Happiness Rank'],axis=1)"
   ]
  },
  {
   "cell_type": "code",
   "execution_count": 21,
   "metadata": {},
   "outputs": [
    {
     "data": {
      "text/html": [
       "<div>\n",
       "<style scoped>\n",
       "    .dataframe tbody tr th:only-of-type {\n",
       "        vertical-align: middle;\n",
       "    }\n",
       "\n",
       "    .dataframe tbody tr th {\n",
       "        vertical-align: top;\n",
       "    }\n",
       "\n",
       "    .dataframe thead th {\n",
       "        text-align: right;\n",
       "    }\n",
       "</style>\n",
       "<table border=\"1\" class=\"dataframe\">\n",
       "  <thead>\n",
       "    <tr style=\"text-align: right;\">\n",
       "      <th></th>\n",
       "      <th>Region</th>\n",
       "      <th>Happiness Score</th>\n",
       "      <th>GDP</th>\n",
       "      <th>Family</th>\n",
       "      <th>Health</th>\n",
       "      <th>Freedom</th>\n",
       "      <th>Corruption</th>\n",
       "      <th>Generosity</th>\n",
       "    </tr>\n",
       "  </thead>\n",
       "  <tbody>\n",
       "    <tr>\n",
       "      <th>0</th>\n",
       "      <td>Southern Asia</td>\n",
       "      <td>3.51280</td>\n",
       "      <td>0.357113</td>\n",
       "      <td>0.409753</td>\n",
       "      <td>0.254707</td>\n",
       "      <td>0.117924</td>\n",
       "      <td>0.058094</td>\n",
       "      <td>0.267730</td>\n",
       "    </tr>\n",
       "    <tr>\n",
       "      <th>1</th>\n",
       "      <td>Central and Eastern Europe</td>\n",
       "      <td>4.71260</td>\n",
       "      <td>0.938633</td>\n",
       "      <td>0.754931</td>\n",
       "      <td>0.787696</td>\n",
       "      <td>0.371898</td>\n",
       "      <td>0.043201</td>\n",
       "      <td>0.167887</td>\n",
       "    </tr>\n",
       "    <tr>\n",
       "      <th>2</th>\n",
       "      <td>Middle East and Northern Africa</td>\n",
       "      <td>5.66760</td>\n",
       "      <td>1.012963</td>\n",
       "      <td>1.074205</td>\n",
       "      <td>0.665057</td>\n",
       "      <td>0.178437</td>\n",
       "      <td>0.146099</td>\n",
       "      <td>0.069219</td>\n",
       "    </tr>\n",
       "    <tr>\n",
       "      <th>3</th>\n",
       "      <td>Sub-Saharan Africa</td>\n",
       "      <td>3.87225</td>\n",
       "      <td>0.798380</td>\n",
       "      <td>0.938368</td>\n",
       "      <td>0.133902</td>\n",
       "      <td>0.027433</td>\n",
       "      <td>0.071570</td>\n",
       "      <td>0.105269</td>\n",
       "    </tr>\n",
       "    <tr>\n",
       "      <th>4</th>\n",
       "      <td>Latin America and Caribbean</td>\n",
       "      <td>6.45940</td>\n",
       "      <td>1.111035</td>\n",
       "      <td>1.330960</td>\n",
       "      <td>0.760895</td>\n",
       "      <td>0.481620</td>\n",
       "      <td>0.064308</td>\n",
       "      <td>0.092371</td>\n",
       "    </tr>\n",
       "    <tr>\n",
       "      <th>...</th>\n",
       "      <td>...</td>\n",
       "      <td>...</td>\n",
       "      <td>...</td>\n",
       "      <td>...</td>\n",
       "      <td>...</td>\n",
       "      <td>...</td>\n",
       "      <td>...</td>\n",
       "      <td>...</td>\n",
       "    </tr>\n",
       "    <tr>\n",
       "      <th>159</th>\n",
       "      <td>Latin America and Caribbean</td>\n",
       "      <td>5.53140</td>\n",
       "      <td>1.052468</td>\n",
       "      <td>1.323264</td>\n",
       "      <td>0.683741</td>\n",
       "      <td>0.213709</td>\n",
       "      <td>0.071444</td>\n",
       "      <td>0.057186</td>\n",
       "    </tr>\n",
       "    <tr>\n",
       "      <th>160</th>\n",
       "      <td>Southeastern Asia</td>\n",
       "      <td>5.15460</td>\n",
       "      <td>0.723416</td>\n",
       "      <td>1.138384</td>\n",
       "      <td>0.722700</td>\n",
       "      <td>0.577207</td>\n",
       "      <td>0.091921</td>\n",
       "      <td>0.195664</td>\n",
       "    </tr>\n",
       "    <tr>\n",
       "      <th>161</th>\n",
       "      <td>Middle East and Northern Africa</td>\n",
       "      <td>3.62580</td>\n",
       "      <td>0.489313</td>\n",
       "      <td>0.865448</td>\n",
       "      <td>0.365440</td>\n",
       "      <td>0.244175</td>\n",
       "      <td>0.067045</td>\n",
       "      <td>0.096929</td>\n",
       "    </tr>\n",
       "    <tr>\n",
       "      <th>162</th>\n",
       "      <td>Sub-Saharan Africa</td>\n",
       "      <td>4.58440</td>\n",
       "      <td>0.571761</td>\n",
       "      <td>0.932381</td>\n",
       "      <td>0.302761</td>\n",
       "      <td>0.462099</td>\n",
       "      <td>0.097337</td>\n",
       "      <td>0.218430</td>\n",
       "    </tr>\n",
       "    <tr>\n",
       "      <th>163</th>\n",
       "      <td>Sub-Saharan Africa</td>\n",
       "      <td>4.00660</td>\n",
       "      <td>0.344051</td>\n",
       "      <td>1.007727</td>\n",
       "      <td>0.274403</td>\n",
       "      <td>0.323257</td>\n",
       "      <td>0.089997</td>\n",
       "      <td>0.169409</td>\n",
       "    </tr>\n",
       "  </tbody>\n",
       "</table>\n",
       "<p>164 rows × 8 columns</p>\n",
       "</div>"
      ],
      "text/plain": [
       "                              Region  Happiness Score       GDP    Family  \\\n",
       "0                      Southern Asia          3.51280  0.357113  0.409753   \n",
       "1         Central and Eastern Europe          4.71260  0.938633  0.754931   \n",
       "2    Middle East and Northern Africa          5.66760  1.012963  1.074205   \n",
       "3                 Sub-Saharan Africa          3.87225  0.798380  0.938368   \n",
       "4        Latin America and Caribbean          6.45940  1.111035  1.330960   \n",
       "..                               ...              ...       ...       ...   \n",
       "159      Latin America and Caribbean          5.53140  1.052468  1.323264   \n",
       "160                Southeastern Asia          5.15460  0.723416  1.138384   \n",
       "161  Middle East and Northern Africa          3.62580  0.489313  0.865448   \n",
       "162               Sub-Saharan Africa          4.58440  0.571761  0.932381   \n",
       "163               Sub-Saharan Africa          4.00660  0.344051  1.007727   \n",
       "\n",
       "       Health   Freedom  Corruption  Generosity  \n",
       "0    0.254707  0.117924    0.058094    0.267730  \n",
       "1    0.787696  0.371898    0.043201    0.167887  \n",
       "2    0.665057  0.178437    0.146099    0.069219  \n",
       "3    0.133902  0.027433    0.071570    0.105269  \n",
       "4    0.760895  0.481620    0.064308    0.092371  \n",
       "..        ...       ...         ...         ...  \n",
       "159  0.683741  0.213709    0.071444    0.057186  \n",
       "160  0.722700  0.577207    0.091921    0.195664  \n",
       "161  0.365440  0.244175    0.067045    0.096929  \n",
       "162  0.302761  0.462099    0.097337    0.218430  \n",
       "163  0.274403  0.323257    0.089997    0.169409  \n",
       "\n",
       "[164 rows x 8 columns]"
      ]
     },
     "execution_count": 21,
     "metadata": {},
     "output_type": "execute_result"
    }
   ],
   "source": [
    "df"
   ]
  },
  {
   "cell_type": "code",
   "execution_count": 22,
   "metadata": {},
   "outputs": [
    {
     "name": "stdout",
     "output_type": "stream",
     "text": [
      "<class 'pandas.core.frame.DataFrame'>\n",
      "RangeIndex: 164 entries, 0 to 163\n",
      "Data columns (total 8 columns):\n",
      " #   Column           Non-Null Count  Dtype  \n",
      "---  ------           --------------  -----  \n",
      " 0   Region           164 non-null    object \n",
      " 1   Happiness Score  164 non-null    float64\n",
      " 2   GDP              164 non-null    float64\n",
      " 3   Family           164 non-null    float64\n",
      " 4   Health           164 non-null    float64\n",
      " 5   Freedom          164 non-null    float64\n",
      " 6   Corruption       164 non-null    float64\n",
      " 7   Generosity       164 non-null    float64\n",
      "dtypes: float64(7), object(1)\n",
      "memory usage: 10.4+ KB\n"
     ]
    }
   ],
   "source": [
    "df.info()"
   ]
  },
  {
   "cell_type": "code",
   "execution_count": 23,
   "metadata": {},
   "outputs": [
    {
     "data": {
      "text/html": [
       "<div>\n",
       "<style scoped>\n",
       "    .dataframe tbody tr th:only-of-type {\n",
       "        vertical-align: middle;\n",
       "    }\n",
       "\n",
       "    .dataframe tbody tr th {\n",
       "        vertical-align: top;\n",
       "    }\n",
       "\n",
       "    .dataframe thead th {\n",
       "        text-align: right;\n",
       "    }\n",
       "</style>\n",
       "<table border=\"1\" class=\"dataframe\">\n",
       "  <thead>\n",
       "    <tr style=\"text-align: right;\">\n",
       "      <th></th>\n",
       "      <th>Happiness Score</th>\n",
       "      <th>GDP</th>\n",
       "      <th>Family</th>\n",
       "      <th>Health</th>\n",
       "      <th>Freedom</th>\n",
       "      <th>Corruption</th>\n",
       "      <th>Generosity</th>\n",
       "    </tr>\n",
       "  </thead>\n",
       "  <tbody>\n",
       "    <tr>\n",
       "      <th>count</th>\n",
       "      <td>164.000000</td>\n",
       "      <td>164.000000</td>\n",
       "      <td>164.000000</td>\n",
       "      <td>164.000000</td>\n",
       "      <td>164.000000</td>\n",
       "      <td>164.000000</td>\n",
       "      <td>164.000000</td>\n",
       "    </tr>\n",
       "    <tr>\n",
       "      <th>mean</th>\n",
       "      <td>5.384550</td>\n",
       "      <td>0.903308</td>\n",
       "      <td>1.067247</td>\n",
       "      <td>0.602577</td>\n",
       "      <td>0.412297</td>\n",
       "      <td>0.129764</td>\n",
       "      <td>0.221430</td>\n",
       "    </tr>\n",
       "    <tr>\n",
       "      <th>std</th>\n",
       "      <td>1.099245</td>\n",
       "      <td>0.409405</td>\n",
       "      <td>0.279457</td>\n",
       "      <td>0.242303</td>\n",
       "      <td>0.145737</td>\n",
       "      <td>0.104723</td>\n",
       "      <td>0.116573</td>\n",
       "    </tr>\n",
       "    <tr>\n",
       "      <th>min</th>\n",
       "      <td>3.079000</td>\n",
       "      <td>0.005661</td>\n",
       "      <td>0.000000</td>\n",
       "      <td>0.049513</td>\n",
       "      <td>0.027433</td>\n",
       "      <td>0.001654</td>\n",
       "      <td>0.000000</td>\n",
       "    </tr>\n",
       "    <tr>\n",
       "      <th>25%</th>\n",
       "      <td>4.442850</td>\n",
       "      <td>0.570993</td>\n",
       "      <td>0.934900</td>\n",
       "      <td>0.416294</td>\n",
       "      <td>0.317728</td>\n",
       "      <td>0.060231</td>\n",
       "      <td>0.138687</td>\n",
       "    </tr>\n",
       "    <tr>\n",
       "      <th>50%</th>\n",
       "      <td>5.317000</td>\n",
       "      <td>0.972478</td>\n",
       "      <td>1.101318</td>\n",
       "      <td>0.663678</td>\n",
       "      <td>0.432305</td>\n",
       "      <td>0.097550</td>\n",
       "      <td>0.208368</td>\n",
       "    </tr>\n",
       "    <tr>\n",
       "      <th>75%</th>\n",
       "      <td>6.153450</td>\n",
       "      <td>1.234365</td>\n",
       "      <td>1.305038</td>\n",
       "      <td>0.773564</td>\n",
       "      <td>0.512431</td>\n",
       "      <td>0.156909</td>\n",
       "      <td>0.280948</td>\n",
       "    </tr>\n",
       "    <tr>\n",
       "      <th>max</th>\n",
       "      <td>7.546000</td>\n",
       "      <td>1.743691</td>\n",
       "      <td>1.492813</td>\n",
       "      <td>1.029513</td>\n",
       "      <td>0.655988</td>\n",
       "      <td>0.473468</td>\n",
       "      <td>0.723533</td>\n",
       "    </tr>\n",
       "  </tbody>\n",
       "</table>\n",
       "</div>"
      ],
      "text/plain": [
       "       Happiness Score         GDP      Family      Health     Freedom  \\\n",
       "count       164.000000  164.000000  164.000000  164.000000  164.000000   \n",
       "mean          5.384550    0.903308    1.067247    0.602577    0.412297   \n",
       "std           1.099245    0.409405    0.279457    0.242303    0.145737   \n",
       "min           3.079000    0.005661    0.000000    0.049513    0.027433   \n",
       "25%           4.442850    0.570993    0.934900    0.416294    0.317728   \n",
       "50%           5.317000    0.972478    1.101318    0.663678    0.432305   \n",
       "75%           6.153450    1.234365    1.305038    0.773564    0.512431   \n",
       "max           7.546000    1.743691    1.492813    1.029513    0.655988   \n",
       "\n",
       "       Corruption  Generosity  \n",
       "count  164.000000  164.000000  \n",
       "mean     0.129764    0.221430  \n",
       "std      0.104723    0.116573  \n",
       "min      0.001654    0.000000  \n",
       "25%      0.060231    0.138687  \n",
       "50%      0.097550    0.208368  \n",
       "75%      0.156909    0.280948  \n",
       "max      0.473468    0.723533  "
      ]
     },
     "execution_count": 23,
     "metadata": {},
     "output_type": "execute_result"
    }
   ],
   "source": [
    "df.describe()"
   ]
  },
  {
   "cell_type": "code",
   "execution_count": 24,
   "metadata": {},
   "outputs": [
    {
     "data": {
      "text/plain": [
       "Region             0\n",
       "Happiness Score    0\n",
       "GDP                0\n",
       "Family             0\n",
       "Health             0\n",
       "Freedom            0\n",
       "Corruption         0\n",
       "Generosity         0\n",
       "dtype: int64"
      ]
     },
     "execution_count": 24,
     "metadata": {},
     "output_type": "execute_result"
    }
   ],
   "source": [
    "df.isna().sum()"
   ]
  },
  {
   "cell_type": "code",
   "execution_count": 25,
   "metadata": {},
   "outputs": [
    {
     "data": {
      "text/plain": [
       "Region             0\n",
       "Happiness Score    0\n",
       "GDP                0\n",
       "Family             0\n",
       "Health             0\n",
       "Freedom            0\n",
       "Corruption         0\n",
       "Generosity         0\n",
       "dtype: int64"
      ]
     },
     "execution_count": 25,
     "metadata": {},
     "output_type": "execute_result"
    }
   ],
   "source": [
    "df.isnull().sum()"
   ]
  },
  {
   "cell_type": "code",
   "execution_count": 26,
   "metadata": {},
   "outputs": [],
   "source": [
    "def status(x):\n",
    "    if(x<5):\n",
    "        return \"Infeliz\"\n",
    "    else:\n",
    "        return \"Feliz\""
   ]
  },
  {
   "cell_type": "code",
   "execution_count": 27,
   "metadata": {},
   "outputs": [
    {
     "data": {
      "text/html": [
       "<div>\n",
       "<style scoped>\n",
       "    .dataframe tbody tr th:only-of-type {\n",
       "        vertical-align: middle;\n",
       "    }\n",
       "\n",
       "    .dataframe tbody tr th {\n",
       "        vertical-align: top;\n",
       "    }\n",
       "\n",
       "    .dataframe thead th {\n",
       "        text-align: right;\n",
       "    }\n",
       "</style>\n",
       "<table border=\"1\" class=\"dataframe\">\n",
       "  <thead>\n",
       "    <tr style=\"text-align: right;\">\n",
       "      <th></th>\n",
       "      <th>Region</th>\n",
       "      <th>Happiness Score</th>\n",
       "      <th>GDP</th>\n",
       "      <th>Family</th>\n",
       "      <th>Health</th>\n",
       "      <th>Freedom</th>\n",
       "      <th>Corruption</th>\n",
       "      <th>Generosity</th>\n",
       "      <th>Status</th>\n",
       "    </tr>\n",
       "  </thead>\n",
       "  <tbody>\n",
       "    <tr>\n",
       "      <th>0</th>\n",
       "      <td>Southern Asia</td>\n",
       "      <td>3.512800</td>\n",
       "      <td>0.357113</td>\n",
       "      <td>0.409753</td>\n",
       "      <td>0.254707</td>\n",
       "      <td>0.117924</td>\n",
       "      <td>0.058094</td>\n",
       "      <td>0.267730</td>\n",
       "      <td>Infeliz</td>\n",
       "    </tr>\n",
       "    <tr>\n",
       "      <th>1</th>\n",
       "      <td>Central and Eastern Europe</td>\n",
       "      <td>4.712600</td>\n",
       "      <td>0.938633</td>\n",
       "      <td>0.754931</td>\n",
       "      <td>0.787696</td>\n",
       "      <td>0.371898</td>\n",
       "      <td>0.043201</td>\n",
       "      <td>0.167887</td>\n",
       "      <td>Infeliz</td>\n",
       "    </tr>\n",
       "    <tr>\n",
       "      <th>2</th>\n",
       "      <td>Middle East and Northern Africa</td>\n",
       "      <td>5.667600</td>\n",
       "      <td>1.012963</td>\n",
       "      <td>1.074205</td>\n",
       "      <td>0.665057</td>\n",
       "      <td>0.178437</td>\n",
       "      <td>0.146099</td>\n",
       "      <td>0.069219</td>\n",
       "      <td>Feliz</td>\n",
       "    </tr>\n",
       "    <tr>\n",
       "      <th>3</th>\n",
       "      <td>Sub-Saharan Africa</td>\n",
       "      <td>3.872250</td>\n",
       "      <td>0.798380</td>\n",
       "      <td>0.938368</td>\n",
       "      <td>0.133902</td>\n",
       "      <td>0.027433</td>\n",
       "      <td>0.071570</td>\n",
       "      <td>0.105269</td>\n",
       "      <td>Infeliz</td>\n",
       "    </tr>\n",
       "    <tr>\n",
       "      <th>4</th>\n",
       "      <td>Latin America and Caribbean</td>\n",
       "      <td>6.459400</td>\n",
       "      <td>1.111035</td>\n",
       "      <td>1.330960</td>\n",
       "      <td>0.760895</td>\n",
       "      <td>0.481620</td>\n",
       "      <td>0.064308</td>\n",
       "      <td>0.092371</td>\n",
       "      <td>Feliz</td>\n",
       "    </tr>\n",
       "    <tr>\n",
       "      <th>5</th>\n",
       "      <td>Central and Eastern Europe</td>\n",
       "      <td>4.393200</td>\n",
       "      <td>0.839133</td>\n",
       "      <td>0.890873</td>\n",
       "      <td>0.697851</td>\n",
       "      <td>0.216029</td>\n",
       "      <td>0.038767</td>\n",
       "      <td>0.082394</td>\n",
       "      <td>Infeliz</td>\n",
       "    </tr>\n",
       "    <tr>\n",
       "      <th>6</th>\n",
       "      <td>Australia and New Zealand</td>\n",
       "      <td>7.276200</td>\n",
       "      <td>1.394885</td>\n",
       "      <td>1.409006</td>\n",
       "      <td>0.914529</td>\n",
       "      <td>0.605043</td>\n",
       "      <td>0.314573</td>\n",
       "      <td>0.416078</td>\n",
       "      <td>Feliz</td>\n",
       "    </tr>\n",
       "    <tr>\n",
       "      <th>7</th>\n",
       "      <td>Western Europe</td>\n",
       "      <td>7.142000</td>\n",
       "      <td>1.398341</td>\n",
       "      <td>1.363963</td>\n",
       "      <td>0.883680</td>\n",
       "      <td>0.576929</td>\n",
       "      <td>0.214260</td>\n",
       "      <td>0.292400</td>\n",
       "      <td>Feliz</td>\n",
       "    </tr>\n",
       "    <tr>\n",
       "      <th>8</th>\n",
       "      <td>Central and Eastern Europe</td>\n",
       "      <td>5.229200</td>\n",
       "      <td>1.073644</td>\n",
       "      <td>1.031750</td>\n",
       "      <td>0.619653</td>\n",
       "      <td>0.380545</td>\n",
       "      <td>0.175756</td>\n",
       "      <td>0.049132</td>\n",
       "      <td>Feliz</td>\n",
       "    </tr>\n",
       "    <tr>\n",
       "      <th>9</th>\n",
       "      <td>Middle East and Northern Africa</td>\n",
       "      <td>6.113800</td>\n",
       "      <td>1.390482</td>\n",
       "      <td>1.243464</td>\n",
       "      <td>0.725251</td>\n",
       "      <td>0.519083</td>\n",
       "      <td>0.210752</td>\n",
       "      <td>0.203152</td>\n",
       "      <td>Feliz</td>\n",
       "    </tr>\n",
       "    <tr>\n",
       "      <th>10</th>\n",
       "      <td>Southern Asia</td>\n",
       "      <td>4.580200</td>\n",
       "      <td>0.523997</td>\n",
       "      <td>0.638336</td>\n",
       "      <td>0.593354</td>\n",
       "      <td>0.478267</td>\n",
       "      <td>0.132448</td>\n",
       "      <td>0.178959</td>\n",
       "      <td>Infeliz</td>\n",
       "    </tr>\n",
       "    <tr>\n",
       "      <th>11</th>\n",
       "      <td>Central and Eastern Europe</td>\n",
       "      <td>5.598000</td>\n",
       "      <td>1.085020</td>\n",
       "      <td>1.338153</td>\n",
       "      <td>0.698767</td>\n",
       "      <td>0.301538</td>\n",
       "      <td>0.163557</td>\n",
       "      <td>0.120004</td>\n",
       "      <td>Feliz</td>\n",
       "    </tr>\n",
       "    <tr>\n",
       "      <th>12</th>\n",
       "      <td>Western Europe</td>\n",
       "      <td>6.921400</td>\n",
       "      <td>1.375398</td>\n",
       "      <td>1.357493</td>\n",
       "      <td>0.882870</td>\n",
       "      <td>0.538762</td>\n",
       "      <td>0.237845</td>\n",
       "      <td>0.208881</td>\n",
       "      <td>Feliz</td>\n",
       "    </tr>\n",
       "    <tr>\n",
       "      <th>13</th>\n",
       "      <td>Latin America and Caribbean</td>\n",
       "      <td>5.956000</td>\n",
       "      <td>0.863712</td>\n",
       "      <td>0.956323</td>\n",
       "      <td>0.459961</td>\n",
       "      <td>0.550940</td>\n",
       "      <td>0.097764</td>\n",
       "      <td>0.219952</td>\n",
       "      <td>Feliz</td>\n",
       "    </tr>\n",
       "    <tr>\n",
       "      <th>14</th>\n",
       "      <td>Sub-Saharan Africa</td>\n",
       "      <td>3.901000</td>\n",
       "      <td>0.376745</td>\n",
       "      <td>0.340470</td>\n",
       "      <td>0.275262</td>\n",
       "      <td>0.419387</td>\n",
       "      <td>0.071368</td>\n",
       "      <td>0.186070</td>\n",
       "      <td>Infeliz</td>\n",
       "    </tr>\n",
       "    <tr>\n",
       "      <th>15</th>\n",
       "      <td>Southern Asia</td>\n",
       "      <td>5.124800</td>\n",
       "      <td>0.823507</td>\n",
       "      <td>1.201687</td>\n",
       "      <td>0.539708</td>\n",
       "      <td>0.498468</td>\n",
       "      <td>0.165486</td>\n",
       "      <td>0.434699</td>\n",
       "      <td>Feliz</td>\n",
       "    </tr>\n",
       "    <tr>\n",
       "      <th>16</th>\n",
       "      <td>Latin America and Caribbean</td>\n",
       "      <td>5.813200</td>\n",
       "      <td>0.767261</td>\n",
       "      <td>1.095164</td>\n",
       "      <td>0.539306</td>\n",
       "      <td>0.551897</td>\n",
       "      <td>0.068788</td>\n",
       "      <td>0.185180</td>\n",
       "      <td>Feliz</td>\n",
       "    </tr>\n",
       "    <tr>\n",
       "      <th>17</th>\n",
       "      <td>Central and Eastern Europe</td>\n",
       "      <td>5.161800</td>\n",
       "      <td>0.921694</td>\n",
       "      <td>0.984433</td>\n",
       "      <td>0.761331</td>\n",
       "      <td>0.176793</td>\n",
       "      <td>0.001654</td>\n",
       "      <td>0.270967</td>\n",
       "      <td>Feliz</td>\n",
       "    </tr>\n",
       "    <tr>\n",
       "      <th>18</th>\n",
       "      <td>Sub-Saharan Africa</td>\n",
       "      <td>3.830000</td>\n",
       "      <td>1.053581</td>\n",
       "      <td>1.107411</td>\n",
       "      <td>0.338407</td>\n",
       "      <td>0.490607</td>\n",
       "      <td>0.104603</td>\n",
       "      <td>0.079042</td>\n",
       "      <td>Infeliz</td>\n",
       "    </tr>\n",
       "    <tr>\n",
       "      <th>19</th>\n",
       "      <td>Latin America and Caribbean</td>\n",
       "      <td>6.657800</td>\n",
       "      <td>1.033227</td>\n",
       "      <td>1.323311</td>\n",
       "      <td>0.680944</td>\n",
       "      <td>0.443039</td>\n",
       "      <td>0.120393</td>\n",
       "      <td>0.134970</td>\n",
       "      <td>Feliz</td>\n",
       "    </tr>\n",
       "    <tr>\n",
       "      <th>20</th>\n",
       "      <td>Central and Eastern Europe</td>\n",
       "      <td>4.618600</td>\n",
       "      <td>1.086536</td>\n",
       "      <td>1.298788</td>\n",
       "      <td>0.735954</td>\n",
       "      <td>0.295458</td>\n",
       "      <td>0.007784</td>\n",
       "      <td>0.101064</td>\n",
       "      <td>Infeliz</td>\n",
       "    </tr>\n",
       "    <tr>\n",
       "      <th>21</th>\n",
       "      <td>Sub-Saharan Africa</td>\n",
       "      <td>4.073800</td>\n",
       "      <td>0.314660</td>\n",
       "      <td>0.935740</td>\n",
       "      <td>0.266813</td>\n",
       "      <td>0.324000</td>\n",
       "      <td>0.122996</td>\n",
       "      <td>0.212773</td>\n",
       "      <td>Infeliz</td>\n",
       "    </tr>\n",
       "    <tr>\n",
       "      <th>22</th>\n",
       "      <td>Sub-Saharan Africa</td>\n",
       "      <td>3.079000</td>\n",
       "      <td>0.062447</td>\n",
       "      <td>0.470817</td>\n",
       "      <td>0.211608</td>\n",
       "      <td>0.101320</td>\n",
       "      <td>0.106992</td>\n",
       "      <td>0.185921</td>\n",
       "      <td>Infeliz</td>\n",
       "    </tr>\n",
       "    <tr>\n",
       "      <th>23</th>\n",
       "      <td>Southeastern Asia</td>\n",
       "      <td>4.205400</td>\n",
       "      <td>0.548237</td>\n",
       "      <td>0.876220</td>\n",
       "      <td>0.511973</td>\n",
       "      <td>0.637871</td>\n",
       "      <td>0.069699</td>\n",
       "      <td>0.336181</td>\n",
       "      <td>Infeliz</td>\n",
       "    </tr>\n",
       "    <tr>\n",
       "      <th>24</th>\n",
       "      <td>Sub-Saharan Africa</td>\n",
       "      <td>4.695800</td>\n",
       "      <td>0.519155</td>\n",
       "      <td>0.852022</td>\n",
       "      <td>0.201378</td>\n",
       "      <td>0.437168</td>\n",
       "      <td>0.050085</td>\n",
       "      <td>0.207856</td>\n",
       "      <td>Infeliz</td>\n",
       "    </tr>\n",
       "    <tr>\n",
       "      <th>25</th>\n",
       "      <td>North America</td>\n",
       "      <td>7.350600</td>\n",
       "      <td>1.388129</td>\n",
       "      <td>1.387412</td>\n",
       "      <td>0.900558</td>\n",
       "      <td>0.610954</td>\n",
       "      <td>0.305846</td>\n",
       "      <td>0.389598</td>\n",
       "      <td>Feliz</td>\n",
       "    </tr>\n",
       "    <tr>\n",
       "      <th>26</th>\n",
       "      <td>Sub-Saharan Africa</td>\n",
       "      <td>3.678000</td>\n",
       "      <td>0.078500</td>\n",
       "      <td>0.000000</td>\n",
       "      <td>0.066990</td>\n",
       "      <td>0.488790</td>\n",
       "      <td>0.082890</td>\n",
       "      <td>0.238350</td>\n",
       "      <td>Infeliz</td>\n",
       "    </tr>\n",
       "    <tr>\n",
       "      <th>27</th>\n",
       "      <td>Sub-Saharan Africa</td>\n",
       "      <td>4.003400</td>\n",
       "      <td>0.382017</td>\n",
       "      <td>0.803851</td>\n",
       "      <td>0.094895</td>\n",
       "      <td>0.177684</td>\n",
       "      <td>0.058758</td>\n",
       "      <td>0.193129</td>\n",
       "      <td>Infeliz</td>\n",
       "    </tr>\n",
       "    <tr>\n",
       "      <th>28</th>\n",
       "      <td>Latin America and Caribbean</td>\n",
       "      <td>6.589400</td>\n",
       "      <td>1.173327</td>\n",
       "      <td>1.202873</td>\n",
       "      <td>0.844976</td>\n",
       "      <td>0.396821</td>\n",
       "      <td>0.088498</td>\n",
       "      <td>0.272048</td>\n",
       "      <td>Feliz</td>\n",
       "    </tr>\n",
       "    <tr>\n",
       "      <th>29</th>\n",
       "      <td>Eastern Asia</td>\n",
       "      <td>5.219000</td>\n",
       "      <td>1.003417</td>\n",
       "      <td>1.033679</td>\n",
       "      <td>0.797121</td>\n",
       "      <td>0.509576</td>\n",
       "      <td>0.056211</td>\n",
       "      <td>0.049449</td>\n",
       "      <td>Feliz</td>\n",
       "    </tr>\n",
       "    <tr>\n",
       "      <th>30</th>\n",
       "      <td>Latin America and Caribbean</td>\n",
       "      <td>6.340000</td>\n",
       "      <td>0.992910</td>\n",
       "      <td>1.302611</td>\n",
       "      <td>0.671678</td>\n",
       "      <td>0.492099</td>\n",
       "      <td>0.044972</td>\n",
       "      <td>0.137457</td>\n",
       "      <td>Feliz</td>\n",
       "    </tr>\n",
       "    <tr>\n",
       "      <th>31</th>\n",
       "      <td>Sub-Saharan Africa</td>\n",
       "      <td>3.961667</td>\n",
       "      <td>0.262717</td>\n",
       "      <td>0.717653</td>\n",
       "      <td>0.389320</td>\n",
       "      <td>0.175097</td>\n",
       "      <td>0.153790</td>\n",
       "      <td>0.210703</td>\n",
       "      <td>Infeliz</td>\n",
       "    </tr>\n",
       "    <tr>\n",
       "      <th>32</th>\n",
       "      <td>Sub-Saharan Africa</td>\n",
       "      <td>4.377400</td>\n",
       "      <td>0.722743</td>\n",
       "      <td>0.716587</td>\n",
       "      <td>0.346717</td>\n",
       "      <td>0.423013</td>\n",
       "      <td>0.092802</td>\n",
       "      <td>0.112300</td>\n",
       "      <td>Infeliz</td>\n",
       "    </tr>\n",
       "    <tr>\n",
       "      <th>33</th>\n",
       "      <td>Sub-Saharan Africa</td>\n",
       "      <td>4.346400</td>\n",
       "      <td>0.062342</td>\n",
       "      <td>1.059597</td>\n",
       "      <td>0.207693</td>\n",
       "      <td>0.239806</td>\n",
       "      <td>0.060448</td>\n",
       "      <td>0.231675</td>\n",
       "      <td>Infeliz</td>\n",
       "    </tr>\n",
       "    <tr>\n",
       "      <th>34</th>\n",
       "      <td>Latin America and Caribbean</td>\n",
       "      <td>7.126200</td>\n",
       "      <td>1.035655</td>\n",
       "      <td>1.315161</td>\n",
       "      <td>0.832248</td>\n",
       "      <td>0.591228</td>\n",
       "      <td>0.101081</td>\n",
       "      <td>0.196423</td>\n",
       "      <td>Feliz</td>\n",
       "    </tr>\n",
       "    <tr>\n",
       "      <th>35</th>\n",
       "      <td>Central and Eastern Europe</td>\n",
       "      <td>5.458600</td>\n",
       "      <td>1.152317</td>\n",
       "      <td>0.959863</td>\n",
       "      <td>0.769116</td>\n",
       "      <td>0.285934</td>\n",
       "      <td>0.033685</td>\n",
       "      <td>0.145157</td>\n",
       "      <td>Feliz</td>\n",
       "    </tr>\n",
       "    <tr>\n",
       "      <th>36</th>\n",
       "      <td>Western Europe</td>\n",
       "      <td>5.732800</td>\n",
       "      <td>1.274928</td>\n",
       "      <td>1.029103</td>\n",
       "      <td>0.913615</td>\n",
       "      <td>0.377180</td>\n",
       "      <td>0.046196</td>\n",
       "      <td>0.249739</td>\n",
       "      <td>Feliz</td>\n",
       "    </tr>\n",
       "    <tr>\n",
       "      <th>37</th>\n",
       "      <td>Central and Eastern Europe</td>\n",
       "      <td>6.654600</td>\n",
       "      <td>1.268562</td>\n",
       "      <td>1.324849</td>\n",
       "      <td>0.827407</td>\n",
       "      <td>0.473753</td>\n",
       "      <td>0.034651</td>\n",
       "      <td>0.080851</td>\n",
       "      <td>Feliz</td>\n",
       "    </tr>\n",
       "    <tr>\n",
       "      <th>38</th>\n",
       "      <td>Western Europe</td>\n",
       "      <td>7.546000</td>\n",
       "      <td>1.396729</td>\n",
       "      <td>1.447688</td>\n",
       "      <td>0.865249</td>\n",
       "      <td>0.625959</td>\n",
       "      <td>0.429374</td>\n",
       "      <td>0.318876</td>\n",
       "      <td>Feliz</td>\n",
       "    </tr>\n",
       "    <tr>\n",
       "      <th>39</th>\n",
       "      <td>Sub-Saharan Africa</td>\n",
       "      <td>4.369000</td>\n",
       "      <td>0.440250</td>\n",
       "      <td>0.592070</td>\n",
       "      <td>0.362910</td>\n",
       "      <td>0.460740</td>\n",
       "      <td>0.281050</td>\n",
       "      <td>0.180930</td>\n",
       "      <td>Infeliz</td>\n",
       "    </tr>\n",
       "    <tr>\n",
       "      <th>40</th>\n",
       "      <td>Latin America and Caribbean</td>\n",
       "      <td>5.199400</td>\n",
       "      <td>0.999923</td>\n",
       "      <td>1.282279</td>\n",
       "      <td>0.642563</td>\n",
       "      <td>0.545380</td>\n",
       "      <td>0.117401</td>\n",
       "      <td>0.169934</td>\n",
       "      <td>Feliz</td>\n",
       "    </tr>\n",
       "    <tr>\n",
       "      <th>41</th>\n",
       "      <td>Latin America and Caribbean</td>\n",
       "      <td>5.992000</td>\n",
       "      <td>0.927780</td>\n",
       "      <td>1.157388</td>\n",
       "      <td>0.753303</td>\n",
       "      <td>0.479528</td>\n",
       "      <td>0.141681</td>\n",
       "      <td>0.121252</td>\n",
       "      <td>Feliz</td>\n",
       "    </tr>\n",
       "    <tr>\n",
       "      <th>42</th>\n",
       "      <td>Middle East and Northern Africa</td>\n",
       "      <td>4.375200</td>\n",
       "      <td>0.924690</td>\n",
       "      <td>0.861320</td>\n",
       "      <td>0.571093</td>\n",
       "      <td>0.239292</td>\n",
       "      <td>0.091110</td>\n",
       "      <td>0.107320</td>\n",
       "      <td>Infeliz</td>\n",
       "    </tr>\n",
       "    <tr>\n",
       "      <th>43</th>\n",
       "      <td>Latin America and Caribbean</td>\n",
       "      <td>6.124200</td>\n",
       "      <td>0.829605</td>\n",
       "      <td>1.097989</td>\n",
       "      <td>0.659478</td>\n",
       "      <td>0.419929</td>\n",
       "      <td>0.093974</td>\n",
       "      <td>0.086390</td>\n",
       "      <td>Feliz</td>\n",
       "    </tr>\n",
       "    <tr>\n",
       "      <th>44</th>\n",
       "      <td>Central and Eastern Europe</td>\n",
       "      <td>5.637800</td>\n",
       "      <td>1.237852</td>\n",
       "      <td>1.363242</td>\n",
       "      <td>0.752152</td>\n",
       "      <td>0.478224</td>\n",
       "      <td>0.171056</td>\n",
       "      <td>0.091784</td>\n",
       "      <td>Feliz</td>\n",
       "    </tr>\n",
       "    <tr>\n",
       "      <th>45</th>\n",
       "      <td>Sub-Saharan Africa</td>\n",
       "      <td>4.423200</td>\n",
       "      <td>0.293359</td>\n",
       "      <td>0.766210</td>\n",
       "      <td>0.412548</td>\n",
       "      <td>0.401275</td>\n",
       "      <td>0.146727</td>\n",
       "      <td>0.256024</td>\n",
       "      <td>Infeliz</td>\n",
       "    </tr>\n",
       "    <tr>\n",
       "      <th>46</th>\n",
       "      <td>Western Europe</td>\n",
       "      <td>7.537800</td>\n",
       "      <td>1.356960</td>\n",
       "      <td>1.434429</td>\n",
       "      <td>0.873836</td>\n",
       "      <td>0.621536</td>\n",
       "      <td>0.398474</td>\n",
       "      <td>0.217783</td>\n",
       "      <td>Feliz</td>\n",
       "    </tr>\n",
       "    <tr>\n",
       "      <th>47</th>\n",
       "      <td>Western Europe</td>\n",
       "      <td>6.515200</td>\n",
       "      <td>1.344117</td>\n",
       "      <td>1.318247</td>\n",
       "      <td>0.916241</td>\n",
       "      <td>0.488390</td>\n",
       "      <td>0.183208</td>\n",
       "      <td>0.116736</td>\n",
       "      <td>Feliz</td>\n",
       "    </tr>\n",
       "    <tr>\n",
       "      <th>48</th>\n",
       "      <td>Sub-Saharan Africa</td>\n",
       "      <td>4.407800</td>\n",
       "      <td>1.101992</td>\n",
       "      <td>1.026316</td>\n",
       "      <td>0.422940</td>\n",
       "      <td>0.312690</td>\n",
       "      <td>0.077419</td>\n",
       "      <td>0.049889</td>\n",
       "      <td>Infeliz</td>\n",
       "    </tr>\n",
       "    <tr>\n",
       "      <th>49</th>\n",
       "      <td>Central and Eastern Europe</td>\n",
       "      <td>4.338800</td>\n",
       "      <td>0.853887</td>\n",
       "      <td>0.481345</td>\n",
       "      <td>0.682831</td>\n",
       "      <td>0.352158</td>\n",
       "      <td>0.266555</td>\n",
       "      <td>0.051668</td>\n",
       "      <td>Infeliz</td>\n",
       "    </tr>\n",
       "  </tbody>\n",
       "</table>\n",
       "</div>"
      ],
      "text/plain": [
       "                             Region  Happiness Score       GDP    Family  \\\n",
       "0                     Southern Asia         3.512800  0.357113  0.409753   \n",
       "1        Central and Eastern Europe         4.712600  0.938633  0.754931   \n",
       "2   Middle East and Northern Africa         5.667600  1.012963  1.074205   \n",
       "3                Sub-Saharan Africa         3.872250  0.798380  0.938368   \n",
       "4       Latin America and Caribbean         6.459400  1.111035  1.330960   \n",
       "5        Central and Eastern Europe         4.393200  0.839133  0.890873   \n",
       "6         Australia and New Zealand         7.276200  1.394885  1.409006   \n",
       "7                    Western Europe         7.142000  1.398341  1.363963   \n",
       "8        Central and Eastern Europe         5.229200  1.073644  1.031750   \n",
       "9   Middle East and Northern Africa         6.113800  1.390482  1.243464   \n",
       "10                    Southern Asia         4.580200  0.523997  0.638336   \n",
       "11       Central and Eastern Europe         5.598000  1.085020  1.338153   \n",
       "12                   Western Europe         6.921400  1.375398  1.357493   \n",
       "13      Latin America and Caribbean         5.956000  0.863712  0.956323   \n",
       "14               Sub-Saharan Africa         3.901000  0.376745  0.340470   \n",
       "15                    Southern Asia         5.124800  0.823507  1.201687   \n",
       "16      Latin America and Caribbean         5.813200  0.767261  1.095164   \n",
       "17       Central and Eastern Europe         5.161800  0.921694  0.984433   \n",
       "18               Sub-Saharan Africa         3.830000  1.053581  1.107411   \n",
       "19      Latin America and Caribbean         6.657800  1.033227  1.323311   \n",
       "20       Central and Eastern Europe         4.618600  1.086536  1.298788   \n",
       "21               Sub-Saharan Africa         4.073800  0.314660  0.935740   \n",
       "22               Sub-Saharan Africa         3.079000  0.062447  0.470817   \n",
       "23                Southeastern Asia         4.205400  0.548237  0.876220   \n",
       "24               Sub-Saharan Africa         4.695800  0.519155  0.852022   \n",
       "25                    North America         7.350600  1.388129  1.387412   \n",
       "26               Sub-Saharan Africa         3.678000  0.078500  0.000000   \n",
       "27               Sub-Saharan Africa         4.003400  0.382017  0.803851   \n",
       "28      Latin America and Caribbean         6.589400  1.173327  1.202873   \n",
       "29                     Eastern Asia         5.219000  1.003417  1.033679   \n",
       "30      Latin America and Caribbean         6.340000  0.992910  1.302611   \n",
       "31               Sub-Saharan Africa         3.961667  0.262717  0.717653   \n",
       "32               Sub-Saharan Africa         4.377400  0.722743  0.716587   \n",
       "33               Sub-Saharan Africa         4.346400  0.062342  1.059597   \n",
       "34      Latin America and Caribbean         7.126200  1.035655  1.315161   \n",
       "35       Central and Eastern Europe         5.458600  1.152317  0.959863   \n",
       "36                   Western Europe         5.732800  1.274928  1.029103   \n",
       "37       Central and Eastern Europe         6.654600  1.268562  1.324849   \n",
       "38                   Western Europe         7.546000  1.396729  1.447688   \n",
       "39               Sub-Saharan Africa         4.369000  0.440250  0.592070   \n",
       "40      Latin America and Caribbean         5.199400  0.999923  1.282279   \n",
       "41      Latin America and Caribbean         5.992000  0.927780  1.157388   \n",
       "42  Middle East and Northern Africa         4.375200  0.924690  0.861320   \n",
       "43      Latin America and Caribbean         6.124200  0.829605  1.097989   \n",
       "44       Central and Eastern Europe         5.637800  1.237852  1.363242   \n",
       "45               Sub-Saharan Africa         4.423200  0.293359  0.766210   \n",
       "46                   Western Europe         7.537800  1.356960  1.434429   \n",
       "47                   Western Europe         6.515200  1.344117  1.318247   \n",
       "48               Sub-Saharan Africa         4.407800  1.101992  1.026316   \n",
       "49       Central and Eastern Europe         4.338800  0.853887  0.481345   \n",
       "\n",
       "      Health   Freedom  Corruption  Generosity   Status  \n",
       "0   0.254707  0.117924    0.058094    0.267730  Infeliz  \n",
       "1   0.787696  0.371898    0.043201    0.167887  Infeliz  \n",
       "2   0.665057  0.178437    0.146099    0.069219    Feliz  \n",
       "3   0.133902  0.027433    0.071570    0.105269  Infeliz  \n",
       "4   0.760895  0.481620    0.064308    0.092371    Feliz  \n",
       "5   0.697851  0.216029    0.038767    0.082394  Infeliz  \n",
       "6   0.914529  0.605043    0.314573    0.416078    Feliz  \n",
       "7   0.883680  0.576929    0.214260    0.292400    Feliz  \n",
       "8   0.619653  0.380545    0.175756    0.049132    Feliz  \n",
       "9   0.725251  0.519083    0.210752    0.203152    Feliz  \n",
       "10  0.593354  0.478267    0.132448    0.178959  Infeliz  \n",
       "11  0.698767  0.301538    0.163557    0.120004    Feliz  \n",
       "12  0.882870  0.538762    0.237845    0.208881    Feliz  \n",
       "13  0.459961  0.550940    0.097764    0.219952    Feliz  \n",
       "14  0.275262  0.419387    0.071368    0.186070  Infeliz  \n",
       "15  0.539708  0.498468    0.165486    0.434699    Feliz  \n",
       "16  0.539306  0.551897    0.068788    0.185180    Feliz  \n",
       "17  0.761331  0.176793    0.001654    0.270967    Feliz  \n",
       "18  0.338407  0.490607    0.104603    0.079042  Infeliz  \n",
       "19  0.680944  0.443039    0.120393    0.134970    Feliz  \n",
       "20  0.735954  0.295458    0.007784    0.101064  Infeliz  \n",
       "21  0.266813  0.324000    0.122996    0.212773  Infeliz  \n",
       "22  0.211608  0.101320    0.106992    0.185921  Infeliz  \n",
       "23  0.511973  0.637871    0.069699    0.336181  Infeliz  \n",
       "24  0.201378  0.437168    0.050085    0.207856  Infeliz  \n",
       "25  0.900558  0.610954    0.305846    0.389598    Feliz  \n",
       "26  0.066990  0.488790    0.082890    0.238350  Infeliz  \n",
       "27  0.094895  0.177684    0.058758    0.193129  Infeliz  \n",
       "28  0.844976  0.396821    0.088498    0.272048    Feliz  \n",
       "29  0.797121  0.509576    0.056211    0.049449    Feliz  \n",
       "30  0.671678  0.492099    0.044972    0.137457    Feliz  \n",
       "31  0.389320  0.175097    0.153790    0.210703  Infeliz  \n",
       "32  0.346717  0.423013    0.092802    0.112300  Infeliz  \n",
       "33  0.207693  0.239806    0.060448    0.231675  Infeliz  \n",
       "34  0.832248  0.591228    0.101081    0.196423    Feliz  \n",
       "35  0.769116  0.285934    0.033685    0.145157    Feliz  \n",
       "36  0.913615  0.377180    0.046196    0.249739    Feliz  \n",
       "37  0.827407  0.473753    0.034651    0.080851    Feliz  \n",
       "38  0.865249  0.625959    0.429374    0.318876    Feliz  \n",
       "39  0.362910  0.460740    0.281050    0.180930  Infeliz  \n",
       "40  0.642563  0.545380    0.117401    0.169934    Feliz  \n",
       "41  0.753303  0.479528    0.141681    0.121252    Feliz  \n",
       "42  0.571093  0.239292    0.091110    0.107320  Infeliz  \n",
       "43  0.659478  0.419929    0.093974    0.086390    Feliz  \n",
       "44  0.752152  0.478224    0.171056    0.091784    Feliz  \n",
       "45  0.412548  0.401275    0.146727    0.256024  Infeliz  \n",
       "46  0.873836  0.621536    0.398474    0.217783    Feliz  \n",
       "47  0.916241  0.488390    0.183208    0.116736    Feliz  \n",
       "48  0.422940  0.312690    0.077419    0.049889  Infeliz  \n",
       "49  0.682831  0.352158    0.266555    0.051668  Infeliz  "
      ]
     },
     "execution_count": 27,
     "metadata": {},
     "output_type": "execute_result"
    }
   ],
   "source": [
    "df['Status'] = df['Happiness Score'].apply(status)\n",
    "df.head(50)"
   ]
  },
  {
   "cell_type": "code",
   "execution_count": 28,
   "metadata": {},
   "outputs": [],
   "source": [
    "df.to_csv(\"Happiness_report_2015-2019.csv\")"
   ]
  },
  {
   "cell_type": "code",
   "execution_count": 29,
   "metadata": {},
   "outputs": [],
   "source": [
    "df = df.drop('Happiness Score',axis=1)"
   ]
  },
  {
   "cell_type": "code",
   "execution_count": 28,
   "metadata": {},
   "outputs": [
    {
     "data": {
      "text/html": [
       "<div>\n",
       "<style scoped>\n",
       "    .dataframe tbody tr th:only-of-type {\n",
       "        vertical-align: middle;\n",
       "    }\n",
       "\n",
       "    .dataframe tbody tr th {\n",
       "        vertical-align: top;\n",
       "    }\n",
       "\n",
       "    .dataframe thead th {\n",
       "        text-align: right;\n",
       "    }\n",
       "</style>\n",
       "<table border=\"1\" class=\"dataframe\">\n",
       "  <thead>\n",
       "    <tr style=\"text-align: right;\">\n",
       "      <th></th>\n",
       "      <th>Region</th>\n",
       "      <th>GDP</th>\n",
       "      <th>Family</th>\n",
       "      <th>Health</th>\n",
       "      <th>Freedom</th>\n",
       "      <th>Corruption</th>\n",
       "      <th>Generosity</th>\n",
       "      <th>Status</th>\n",
       "    </tr>\n",
       "  </thead>\n",
       "  <tbody>\n",
       "    <tr>\n",
       "      <th>0</th>\n",
       "      <td>Southern Asia</td>\n",
       "      <td>0.357113</td>\n",
       "      <td>0.409753</td>\n",
       "      <td>0.254707</td>\n",
       "      <td>0.117924</td>\n",
       "      <td>0.058094</td>\n",
       "      <td>0.26773</td>\n",
       "      <td>Infeliz</td>\n",
       "    </tr>\n",
       "  </tbody>\n",
       "</table>\n",
       "</div>"
      ],
      "text/plain": [
       "          Region       GDP    Family    Health   Freedom  Corruption  \\\n",
       "0  Southern Asia  0.357113  0.409753  0.254707  0.117924    0.058094   \n",
       "\n",
       "   Generosity   Status  \n",
       "0     0.26773  Infeliz  "
      ]
     },
     "execution_count": 28,
     "metadata": {},
     "output_type": "execute_result"
    }
   ],
   "source": [
    "df.head(1)"
   ]
  },
  {
   "cell_type": "markdown",
   "metadata": {},
   "source": [
    "### Colunas em texto serão convertidas de variáveis categóricas para numéricas"
   ]
  },
  {
   "cell_type": "code",
   "execution_count": 29,
   "metadata": {},
   "outputs": [],
   "source": [
    "from sklearn.preprocessing import LabelEncoder"
   ]
  },
  {
   "cell_type": "code",
   "execution_count": 30,
   "metadata": {},
   "outputs": [],
   "source": [
    "enconder = LabelEncoder()"
   ]
  },
  {
   "cell_type": "code",
   "execution_count": 31,
   "metadata": {},
   "outputs": [],
   "source": [
    "df['Status'] = enconder.fit_transform(df['Status'])"
   ]
  },
  {
   "cell_type": "code",
   "execution_count": 32,
   "metadata": {},
   "outputs": [
    {
     "data": {
      "text/plain": [
       "array(['Feliz', 'Infeliz'], dtype=object)"
      ]
     },
     "execution_count": 32,
     "metadata": {},
     "output_type": "execute_result"
    }
   ],
   "source": [
    "enconder.classes_"
   ]
  },
  {
   "cell_type": "code",
   "execution_count": 33,
   "metadata": {},
   "outputs": [
    {
     "data": {
      "text/html": [
       "<div>\n",
       "<style scoped>\n",
       "    .dataframe tbody tr th:only-of-type {\n",
       "        vertical-align: middle;\n",
       "    }\n",
       "\n",
       "    .dataframe tbody tr th {\n",
       "        vertical-align: top;\n",
       "    }\n",
       "\n",
       "    .dataframe thead th {\n",
       "        text-align: right;\n",
       "    }\n",
       "</style>\n",
       "<table border=\"1\" class=\"dataframe\">\n",
       "  <thead>\n",
       "    <tr style=\"text-align: right;\">\n",
       "      <th></th>\n",
       "      <th>Region</th>\n",
       "      <th>GDP</th>\n",
       "      <th>Family</th>\n",
       "      <th>Health</th>\n",
       "      <th>Freedom</th>\n",
       "      <th>Corruption</th>\n",
       "      <th>Generosity</th>\n",
       "      <th>Status</th>\n",
       "    </tr>\n",
       "  </thead>\n",
       "  <tbody>\n",
       "    <tr>\n",
       "      <th>0</th>\n",
       "      <td>Southern Asia</td>\n",
       "      <td>0.357113</td>\n",
       "      <td>0.409753</td>\n",
       "      <td>0.254707</td>\n",
       "      <td>0.117924</td>\n",
       "      <td>0.058094</td>\n",
       "      <td>0.267730</td>\n",
       "      <td>1</td>\n",
       "    </tr>\n",
       "    <tr>\n",
       "      <th>1</th>\n",
       "      <td>Central and Eastern Europe</td>\n",
       "      <td>0.938633</td>\n",
       "      <td>0.754931</td>\n",
       "      <td>0.787696</td>\n",
       "      <td>0.371898</td>\n",
       "      <td>0.043201</td>\n",
       "      <td>0.167887</td>\n",
       "      <td>1</td>\n",
       "    </tr>\n",
       "    <tr>\n",
       "      <th>2</th>\n",
       "      <td>Middle East and Northern Africa</td>\n",
       "      <td>1.012963</td>\n",
       "      <td>1.074205</td>\n",
       "      <td>0.665057</td>\n",
       "      <td>0.178437</td>\n",
       "      <td>0.146099</td>\n",
       "      <td>0.069219</td>\n",
       "      <td>0</td>\n",
       "    </tr>\n",
       "    <tr>\n",
       "      <th>3</th>\n",
       "      <td>Sub-Saharan Africa</td>\n",
       "      <td>0.798380</td>\n",
       "      <td>0.938368</td>\n",
       "      <td>0.133902</td>\n",
       "      <td>0.027433</td>\n",
       "      <td>0.071570</td>\n",
       "      <td>0.105269</td>\n",
       "      <td>1</td>\n",
       "    </tr>\n",
       "    <tr>\n",
       "      <th>4</th>\n",
       "      <td>Latin America and Caribbean</td>\n",
       "      <td>1.111035</td>\n",
       "      <td>1.330960</td>\n",
       "      <td>0.760895</td>\n",
       "      <td>0.481620</td>\n",
       "      <td>0.064308</td>\n",
       "      <td>0.092371</td>\n",
       "      <td>0</td>\n",
       "    </tr>\n",
       "  </tbody>\n",
       "</table>\n",
       "</div>"
      ],
      "text/plain": [
       "                            Region       GDP    Family    Health   Freedom  \\\n",
       "0                    Southern Asia  0.357113  0.409753  0.254707  0.117924   \n",
       "1       Central and Eastern Europe  0.938633  0.754931  0.787696  0.371898   \n",
       "2  Middle East and Northern Africa  1.012963  1.074205  0.665057  0.178437   \n",
       "3               Sub-Saharan Africa  0.798380  0.938368  0.133902  0.027433   \n",
       "4      Latin America and Caribbean  1.111035  1.330960  0.760895  0.481620   \n",
       "\n",
       "   Corruption  Generosity  Status  \n",
       "0    0.058094    0.267730       1  \n",
       "1    0.043201    0.167887       1  \n",
       "2    0.146099    0.069219       0  \n",
       "3    0.071570    0.105269       1  \n",
       "4    0.064308    0.092371       0  "
      ]
     },
     "execution_count": 33,
     "metadata": {},
     "output_type": "execute_result"
    }
   ],
   "source": [
    "df.head()"
   ]
  },
  {
   "cell_type": "code",
   "execution_count": 34,
   "metadata": {},
   "outputs": [],
   "source": [
    "colunas = ['GDP', 'Family', 'Freedom', 'Corruption', 'Generosity']"
   ]
  },
  {
   "cell_type": "code",
   "execution_count": 35,
   "metadata": {},
   "outputs": [
    {
     "data": {
      "text/plain": [
       "['GDP', 'Family', 'Freedom', 'Corruption', 'Generosity']"
      ]
     },
     "execution_count": 35,
     "metadata": {},
     "output_type": "execute_result"
    }
   ],
   "source": [
    "colunas"
   ]
  },
  {
   "cell_type": "markdown",
   "metadata": {},
   "source": [
    "### Normalização de dados"
   ]
  },
  {
   "cell_type": "code",
   "execution_count": 36,
   "metadata": {},
   "outputs": [],
   "source": [
    "from sklearn.preprocessing import StandardScaler"
   ]
  },
  {
   "cell_type": "code",
   "execution_count": 37,
   "metadata": {},
   "outputs": [],
   "source": [
    "sc=StandardScaler()"
   ]
  },
  {
   "cell_type": "code",
   "execution_count": 38,
   "metadata": {},
   "outputs": [],
   "source": [
    "for col in colunas:\n",
    "    df[col] = sc.fit_transform(df[col].values.reshape(-1,1))"
   ]
  },
  {
   "cell_type": "code",
   "execution_count": 39,
   "metadata": {},
   "outputs": [
    {
     "data": {
      "text/html": [
       "<div>\n",
       "<style scoped>\n",
       "    .dataframe tbody tr th:only-of-type {\n",
       "        vertical-align: middle;\n",
       "    }\n",
       "\n",
       "    .dataframe tbody tr th {\n",
       "        vertical-align: top;\n",
       "    }\n",
       "\n",
       "    .dataframe thead th {\n",
       "        text-align: right;\n",
       "    }\n",
       "</style>\n",
       "<table border=\"1\" class=\"dataframe\">\n",
       "  <thead>\n",
       "    <tr style=\"text-align: right;\">\n",
       "      <th></th>\n",
       "      <th>Region</th>\n",
       "      <th>GDP</th>\n",
       "      <th>Family</th>\n",
       "      <th>Health</th>\n",
       "      <th>Freedom</th>\n",
       "      <th>Corruption</th>\n",
       "      <th>Generosity</th>\n",
       "      <th>Status</th>\n",
       "    </tr>\n",
       "  </thead>\n",
       "  <tbody>\n",
       "    <tr>\n",
       "      <th>0</th>\n",
       "      <td>Southern Asia</td>\n",
       "      <td>-1.338202</td>\n",
       "      <td>-2.359964</td>\n",
       "      <td>0.254707</td>\n",
       "      <td>-2.026085</td>\n",
       "      <td>-0.686475</td>\n",
       "      <td>0.398393</td>\n",
       "      <td>1</td>\n",
       "    </tr>\n",
       "    <tr>\n",
       "      <th>1</th>\n",
       "      <td>Central and Eastern Europe</td>\n",
       "      <td>0.086547</td>\n",
       "      <td>-1.121005</td>\n",
       "      <td>0.787696</td>\n",
       "      <td>-0.278056</td>\n",
       "      <td>-0.829122</td>\n",
       "      <td>-0.460718</td>\n",
       "      <td>1</td>\n",
       "    </tr>\n",
       "    <tr>\n",
       "      <th>2</th>\n",
       "      <td>Middle East and Northern Africa</td>\n",
       "      <td>0.268660</td>\n",
       "      <td>0.024977</td>\n",
       "      <td>0.665057</td>\n",
       "      <td>-1.609590</td>\n",
       "      <td>0.156468</td>\n",
       "      <td>-1.309708</td>\n",
       "      <td>0</td>\n",
       "    </tr>\n",
       "    <tr>\n",
       "      <th>3</th>\n",
       "      <td>Sub-Saharan Africa</td>\n",
       "      <td>-0.257079</td>\n",
       "      <td>-0.462589</td>\n",
       "      <td>0.133902</td>\n",
       "      <td>-2.648912</td>\n",
       "      <td>-0.557393</td>\n",
       "      <td>-0.999515</td>\n",
       "      <td>1</td>\n",
       "    </tr>\n",
       "    <tr>\n",
       "      <th>4</th>\n",
       "      <td>Latin America and Caribbean</td>\n",
       "      <td>0.508942</td>\n",
       "      <td>0.946554</td>\n",
       "      <td>0.760895</td>\n",
       "      <td>0.477130</td>\n",
       "      <td>-0.626952</td>\n",
       "      <td>-1.110494</td>\n",
       "      <td>0</td>\n",
       "    </tr>\n",
       "  </tbody>\n",
       "</table>\n",
       "</div>"
      ],
      "text/plain": [
       "                            Region       GDP    Family    Health   Freedom  \\\n",
       "0                    Southern Asia -1.338202 -2.359964  0.254707 -2.026085   \n",
       "1       Central and Eastern Europe  0.086547 -1.121005  0.787696 -0.278056   \n",
       "2  Middle East and Northern Africa  0.268660  0.024977  0.665057 -1.609590   \n",
       "3               Sub-Saharan Africa -0.257079 -0.462589  0.133902 -2.648912   \n",
       "4      Latin America and Caribbean  0.508942  0.946554  0.760895  0.477130   \n",
       "\n",
       "   Corruption  Generosity  Status  \n",
       "0   -0.686475    0.398393       1  \n",
       "1   -0.829122   -0.460718       1  \n",
       "2    0.156468   -1.309708       0  \n",
       "3   -0.557393   -0.999515       1  \n",
       "4   -0.626952   -1.110494       0  "
      ]
     },
     "execution_count": 39,
     "metadata": {},
     "output_type": "execute_result"
    }
   ],
   "source": [
    "df.head()"
   ]
  },
  {
   "cell_type": "code",
   "execution_count": 40,
   "metadata": {},
   "outputs": [],
   "source": [
    "dummies = pd.get_dummies(df.Region)"
   ]
  },
  {
   "cell_type": "code",
   "execution_count": 41,
   "metadata": {},
   "outputs": [],
   "source": [
    "df_bin = pd.concat([df,dummies], axis='columns')"
   ]
  },
  {
   "cell_type": "code",
   "execution_count": 42,
   "metadata": {},
   "outputs": [
    {
     "data": {
      "text/html": [
       "<div>\n",
       "<style scoped>\n",
       "    .dataframe tbody tr th:only-of-type {\n",
       "        vertical-align: middle;\n",
       "    }\n",
       "\n",
       "    .dataframe tbody tr th {\n",
       "        vertical-align: top;\n",
       "    }\n",
       "\n",
       "    .dataframe thead th {\n",
       "        text-align: right;\n",
       "    }\n",
       "</style>\n",
       "<table border=\"1\" class=\"dataframe\">\n",
       "  <thead>\n",
       "    <tr style=\"text-align: right;\">\n",
       "      <th></th>\n",
       "      <th>Region</th>\n",
       "      <th>GDP</th>\n",
       "      <th>Family</th>\n",
       "      <th>Health</th>\n",
       "      <th>Freedom</th>\n",
       "      <th>Corruption</th>\n",
       "      <th>Generosity</th>\n",
       "      <th>Status</th>\n",
       "      <th>Australia and New Zealand</th>\n",
       "      <th>Central and Eastern Europe</th>\n",
       "      <th>Eastern Asia</th>\n",
       "      <th>Latin America and Caribbean</th>\n",
       "      <th>Middle East and Northern Africa</th>\n",
       "      <th>North America</th>\n",
       "      <th>Southeastern Asia</th>\n",
       "      <th>Southern Asia</th>\n",
       "      <th>Sub-Saharan Africa</th>\n",
       "      <th>Western Europe</th>\n",
       "    </tr>\n",
       "  </thead>\n",
       "  <tbody>\n",
       "    <tr>\n",
       "      <th>0</th>\n",
       "      <td>Southern Asia</td>\n",
       "      <td>-1.338202</td>\n",
       "      <td>-2.359964</td>\n",
       "      <td>0.254707</td>\n",
       "      <td>-2.026085</td>\n",
       "      <td>-0.686475</td>\n",
       "      <td>0.398393</td>\n",
       "      <td>1</td>\n",
       "      <td>0</td>\n",
       "      <td>0</td>\n",
       "      <td>0</td>\n",
       "      <td>0</td>\n",
       "      <td>0</td>\n",
       "      <td>0</td>\n",
       "      <td>0</td>\n",
       "      <td>1</td>\n",
       "      <td>0</td>\n",
       "      <td>0</td>\n",
       "    </tr>\n",
       "    <tr>\n",
       "      <th>1</th>\n",
       "      <td>Central and Eastern Europe</td>\n",
       "      <td>0.086547</td>\n",
       "      <td>-1.121005</td>\n",
       "      <td>0.787696</td>\n",
       "      <td>-0.278056</td>\n",
       "      <td>-0.829122</td>\n",
       "      <td>-0.460718</td>\n",
       "      <td>1</td>\n",
       "      <td>0</td>\n",
       "      <td>1</td>\n",
       "      <td>0</td>\n",
       "      <td>0</td>\n",
       "      <td>0</td>\n",
       "      <td>0</td>\n",
       "      <td>0</td>\n",
       "      <td>0</td>\n",
       "      <td>0</td>\n",
       "      <td>0</td>\n",
       "    </tr>\n",
       "    <tr>\n",
       "      <th>2</th>\n",
       "      <td>Middle East and Northern Africa</td>\n",
       "      <td>0.268660</td>\n",
       "      <td>0.024977</td>\n",
       "      <td>0.665057</td>\n",
       "      <td>-1.609590</td>\n",
       "      <td>0.156468</td>\n",
       "      <td>-1.309708</td>\n",
       "      <td>0</td>\n",
       "      <td>0</td>\n",
       "      <td>0</td>\n",
       "      <td>0</td>\n",
       "      <td>0</td>\n",
       "      <td>1</td>\n",
       "      <td>0</td>\n",
       "      <td>0</td>\n",
       "      <td>0</td>\n",
       "      <td>0</td>\n",
       "      <td>0</td>\n",
       "    </tr>\n",
       "    <tr>\n",
       "      <th>3</th>\n",
       "      <td>Sub-Saharan Africa</td>\n",
       "      <td>-0.257079</td>\n",
       "      <td>-0.462589</td>\n",
       "      <td>0.133902</td>\n",
       "      <td>-2.648912</td>\n",
       "      <td>-0.557393</td>\n",
       "      <td>-0.999515</td>\n",
       "      <td>1</td>\n",
       "      <td>0</td>\n",
       "      <td>0</td>\n",
       "      <td>0</td>\n",
       "      <td>0</td>\n",
       "      <td>0</td>\n",
       "      <td>0</td>\n",
       "      <td>0</td>\n",
       "      <td>0</td>\n",
       "      <td>1</td>\n",
       "      <td>0</td>\n",
       "    </tr>\n",
       "    <tr>\n",
       "      <th>4</th>\n",
       "      <td>Latin America and Caribbean</td>\n",
       "      <td>0.508942</td>\n",
       "      <td>0.946554</td>\n",
       "      <td>0.760895</td>\n",
       "      <td>0.477130</td>\n",
       "      <td>-0.626952</td>\n",
       "      <td>-1.110494</td>\n",
       "      <td>0</td>\n",
       "      <td>0</td>\n",
       "      <td>0</td>\n",
       "      <td>0</td>\n",
       "      <td>1</td>\n",
       "      <td>0</td>\n",
       "      <td>0</td>\n",
       "      <td>0</td>\n",
       "      <td>0</td>\n",
       "      <td>0</td>\n",
       "      <td>0</td>\n",
       "    </tr>\n",
       "  </tbody>\n",
       "</table>\n",
       "</div>"
      ],
      "text/plain": [
       "                            Region       GDP    Family    Health   Freedom  \\\n",
       "0                    Southern Asia -1.338202 -2.359964  0.254707 -2.026085   \n",
       "1       Central and Eastern Europe  0.086547 -1.121005  0.787696 -0.278056   \n",
       "2  Middle East and Northern Africa  0.268660  0.024977  0.665057 -1.609590   \n",
       "3               Sub-Saharan Africa -0.257079 -0.462589  0.133902 -2.648912   \n",
       "4      Latin America and Caribbean  0.508942  0.946554  0.760895  0.477130   \n",
       "\n",
       "   Corruption  Generosity  Status  Australia and New Zealand  \\\n",
       "0   -0.686475    0.398393       1                          0   \n",
       "1   -0.829122   -0.460718       1                          0   \n",
       "2    0.156468   -1.309708       0                          0   \n",
       "3   -0.557393   -0.999515       1                          0   \n",
       "4   -0.626952   -1.110494       0                          0   \n",
       "\n",
       "   Central and Eastern Europe  Eastern Asia  Latin America and Caribbean  \\\n",
       "0                           0             0                            0   \n",
       "1                           1             0                            0   \n",
       "2                           0             0                            0   \n",
       "3                           0             0                            0   \n",
       "4                           0             0                            1   \n",
       "\n",
       "   Middle East and Northern Africa  North America  Southeastern Asia  \\\n",
       "0                                0              0                  0   \n",
       "1                                0              0                  0   \n",
       "2                                1              0                  0   \n",
       "3                                0              0                  0   \n",
       "4                                0              0                  0   \n",
       "\n",
       "   Southern Asia  Sub-Saharan Africa  Western Europe  \n",
       "0              1                   0               0  \n",
       "1              0                   0               0  \n",
       "2              0                   0               0  \n",
       "3              0                   1               0  \n",
       "4              0                   0               0  "
      ]
     },
     "execution_count": 42,
     "metadata": {},
     "output_type": "execute_result"
    }
   ],
   "source": [
    "df_bin.head()"
   ]
  },
  {
   "cell_type": "markdown",
   "metadata": {},
   "source": [
    "# Analisando cada um dos critérios de felicidade\n"
   ]
  },
  {
   "cell_type": "code",
   "execution_count": 43,
   "metadata": {
    "scrolled": false
   },
   "outputs": [
    {
     "data": {
      "text/plain": [
       "<seaborn.axisgrid.PairGrid at 0x137a4e49708>"
      ]
     },
     "execution_count": 43,
     "metadata": {},
     "output_type": "execute_result"
    },
    {
     "data": {
      "image/png": "[encoded data removed]",
      "text/plain": [
       "<Figure size 1122.38x1080 with 42 Axes>"
      ]
     },
     "metadata": {
      "needs_background": "light"
     },
     "output_type": "display_data"
    }
   ],
   "source": [
    "sns.pairplot(df, hue='Status')"
   ]
  },
  {
   "cell_type": "markdown",
   "metadata": {},
   "source": [
    "Os fatores \"Health\" e \"GDP\" são os que melhor separam as classes \"Infeliz\" e \"Feliz\"."
   ]
  },
  {
   "cell_type": "markdown",
   "metadata": {},
   "source": [
    "### Correlação"
   ]
  },
  {
   "cell_type": "code",
   "execution_count": 44,
   "metadata": {},
   "outputs": [],
   "source": [
    "correlacao = df_bin.corr()"
   ]
  },
  {
   "cell_type": "code",
   "execution_count": 45,
   "metadata": {},
   "outputs": [
    {
     "data": {
      "text/plain": [
       "<matplotlib.axes._subplots.AxesSubplot at 0x137a667bc88>"
      ]
     },
     "execution_count": 45,
     "metadata": {},
     "output_type": "execute_result"
    },
    {
     "data": {
      "image/png": "[encoded data removed]",
      "text/plain": [
       "<Figure size 432x288 with 2 Axes>"
      ]
     },
     "metadata": {
      "needs_background": "light"
     },
     "output_type": "display_data"
    }
   ],
   "source": [
    "sns.heatmap(correlacao)"
   ]
  },
  {
   "cell_type": "markdown",
   "metadata": {},
   "source": [
    "GDP & Health demonstram alguma correlação. Ou seja, podemos considerar que quanto maior o produto interno bruto de uma região,\n",
    "maior será a satisfação com relação à saúde de seus habitantes."
   ]
  },
  {
   "cell_type": "markdown",
   "metadata": {},
   "source": [
    "### Proporção de regiões Infelizes x Felizes"
   ]
  },
  {
   "cell_type": "code",
   "execution_count": 46,
   "metadata": {
    "scrolled": true
   },
   "outputs": [
    {
     "data": {
      "text/plain": [
       "0    104\n",
       "1     60\n",
       "Name: Status, dtype: int64"
      ]
     },
     "execution_count": 46,
     "metadata": {},
     "output_type": "execute_result"
    }
   ],
   "source": [
    "df['Status'].value_counts()"
   ]
  },
  {
   "cell_type": "code",
   "execution_count": 47,
   "metadata": {},
   "outputs": [],
   "source": [
    "classes = df['Status'].unique()\n",
    "n_classes = len(classes)"
   ]
  },
  {
   "cell_type": "markdown",
   "metadata": {},
   "source": [
    "### Distribuição de dados cadastrados por região."
   ]
  },
  {
   "cell_type": "code",
   "execution_count": 48,
   "metadata": {
    "scrolled": true
   },
   "outputs": [
    {
     "data": {
      "text/plain": [
       "Sub-Saharan Africa                 44\n",
       "Central and Eastern Europe         29\n",
       "Latin America and Caribbean        24\n",
       "Western Europe                     21\n",
       "Middle East and Northern Africa    20\n",
       "Southeastern Asia                   9\n",
       "Southern Asia                       7\n",
       "Eastern Asia                        6\n",
       "North America                       2\n",
       "Australia and New Zealand           2\n",
       "Name: Region, dtype: int64"
      ]
     },
     "execution_count": 48,
     "metadata": {},
     "output_type": "execute_result"
    }
   ],
   "source": [
    "df['Region'].value_counts()"
   ]
  },
  {
   "cell_type": "markdown",
   "metadata": {},
   "source": [
    "### Analisando a pontuação de felicidade por região."
   ]
  },
  {
   "cell_type": "markdown",
   "metadata": {},
   "source": [
    "Observamos que de forma massiva, os paízes com menor pontuação se encontram na região Sub-Saharan Africa. Enquanto 4 regiões se destacaram por não possuírem registros de países infelizes:\n",
    "Sub-Saharan Africa, Western Europe, Eastern Asia, Australia and New Zealand e North America.         "
   ]
  },
  {
   "cell_type": "code",
   "execution_count": 49,
   "metadata": {},
   "outputs": [
    {
     "data": {
      "text/plain": [
       "<matplotlib.axes._subplots.AxesSubplot at 0x137a6a41988>"
      ]
     },
     "execution_count": 49,
     "metadata": {},
     "output_type": "execute_result"
    },
    {
     "data": {
      "image/png": "[encoded data removed]",
      "text/plain": [
       "<Figure size 432x288 with 1 Axes>"
      ]
     },
     "metadata": {
      "needs_background": "light"
     },
     "output_type": "display_data"
    }
   ],
   "source": [
    "sns.countplot(x='Status', palette=[\"m\", \"r\"],data=df)"
   ]
  },
  {
   "cell_type": "markdown",
   "metadata": {},
   "source": [
    "### \"Felizes\" = 0                \"Infelizes\" = 1"
   ]
  },
  {
   "cell_type": "code",
   "execution_count": 50,
   "metadata": {},
   "outputs": [
    {
     "data": {
      "text/plain": [
       "(array([0, 1, 2, 3, 4, 5, 6, 7, 8, 9]), <a list of 10 Text xticklabel objects>)"
      ]
     },
     "execution_count": 50,
     "metadata": {},
     "output_type": "execute_result"
    },
    {
     "data": {
      "image/png": "[encoded data removed]",
      "text/plain": [
       "<Figure size 432x288 with 1 Axes>"
      ]
     },
     "metadata": {
      "needs_background": "light"
     },
     "output_type": "display_data"
    }
   ],
   "source": [
    "sns.boxplot(x=\"Region\", y=\"GDP\", hue=\"Status\", palette=[\"m\", \"r\"], data=df)\n",
    "sns.despine(offset=10, trim=True)\n",
    "plt.xticks(rotation=90)"
   ]
  },
  {
   "cell_type": "markdown",
   "metadata": {},
   "source": [
    "Também observa-se que quanto maior o GDP, menor o índice de infelicidade entre as regiões."
   ]
  },
  {
   "cell_type": "code",
   "execution_count": 51,
   "metadata": {},
   "outputs": [
    {
     "data": {
      "text/plain": [
       "(array([0, 1, 2, 3, 4, 5, 6, 7, 8, 9]), <a list of 10 Text xticklabel objects>)"
      ]
     },
     "execution_count": 51,
     "metadata": {},
     "output_type": "execute_result"
    },
    {
     "data": {
      "image/png": "[encoded data removed]",
      "text/plain": [
       "<Figure size 432x288 with 1 Axes>"
      ]
     },
     "metadata": {
      "needs_background": "light"
     },
     "output_type": "display_data"
    }
   ],
   "source": [
    "sns.boxplot(x=\"Region\", y=\"Family\", hue=\"Status\", palette=[\"m\", \"r\"], data=df)\n",
    "sns.despine(offset=10, trim=True)\n",
    "plt.xticks(rotation=90)\n"
   ]
  },
  {
   "cell_type": "markdown",
   "metadata": {},
   "source": [
    "Neste gráfico, nota-se que Ainda que as regiões com alto índice de infelicidade ainda podem considerar-se satisfeitos com o critério \"Família\""
   ]
  },
  {
   "cell_type": "code",
   "execution_count": 52,
   "metadata": {
    "scrolled": false
   },
   "outputs": [
    {
     "data": {
      "text/plain": [
       "(array([0, 1, 2, 3, 4, 5, 6, 7, 8, 9]), <a list of 10 Text xticklabel objects>)"
      ]
     },
     "execution_count": 52,
     "metadata": {},
     "output_type": "execute_result"
    },
    {
     "data": {
      "image/png": "[encoded data removed]",
      "text/plain": [
       "<Figure size 432x288 with 1 Axes>"
      ]
     },
     "metadata": {
      "needs_background": "light"
     },
     "output_type": "display_data"
    }
   ],
   "source": [
    "sns.boxplot(x=\"Region\", y=\"Health\", hue=\"Status\", palette=[\"m\", \"r\"], data=df)\n",
    "sns.despine(offset=10, trim=True)\n",
    "plt.xticks(rotation=90)"
   ]
  },
  {
   "cell_type": "markdown",
   "metadata": {},
   "source": [
    "A saúde mostra-se um fator importante na definição das categorias. Quanto menor a satisfação com a saúde, menor é o índice de felicidade."
   ]
  },
  {
   "cell_type": "code",
   "execution_count": 53,
   "metadata": {},
   "outputs": [
    {
     "data": {
      "text/plain": [
       "(array([0, 1, 2, 3, 4, 5, 6, 7, 8, 9]), <a list of 10 Text xticklabel objects>)"
      ]
     },
     "execution_count": 53,
     "metadata": {},
     "output_type": "execute_result"
    },
    {
     "data": {
      "image/png": "[encoded data removed]",
      "text/plain": [
       "<Figure size 432x288 with 1 Axes>"
      ]
     },
     "metadata": {
      "needs_background": "light"
     },
     "output_type": "display_data"
    }
   ],
   "source": [
    "sns.boxplot(x=\"Region\", y=\"Freedom\", hue=\"Status\", palette=[\"m\", \"r\"], data=df)\n",
    "sns.despine(offset=10, trim=True)\n",
    "plt.xticks(rotation=90)"
   ]
  },
  {
   "cell_type": "markdown",
   "metadata": {},
   "source": [
    "A liberdade não demonstra-se um fator relevante para determinar-se se uma região é ou não feliz. Pois países infelizes indicam ter maior satisfação com relação ao critério \"Liberdade\"."
   ]
  },
  {
   "cell_type": "code",
   "execution_count": 54,
   "metadata": {
    "scrolled": false
   },
   "outputs": [
    {
     "data": {
      "text/plain": [
       "(array([0, 1, 2, 3, 4, 5, 6, 7, 8, 9]), <a list of 10 Text xticklabel objects>)"
      ]
     },
     "execution_count": 54,
     "metadata": {},
     "output_type": "execute_result"
    },
    {
     "data": {
      "image/png": "[encoded data removed]",
      "text/plain": [
       "<Figure size 432x288 with 1 Axes>"
      ]
     },
     "metadata": {
      "needs_background": "light"
     },
     "output_type": "display_data"
    }
   ],
   "source": [
    "sns.boxplot(x=\"Region\", y=\"Corruption\", hue=\"Status\", palette=[\"m\", \"r\"], data=df)\n",
    "sns.despine(offset=10, trim=True)\n",
    "plt.xticks(rotation=90)"
   ]
  },
  {
   "cell_type": "markdown",
   "metadata": {},
   "source": [
    "Da mesma forma quando analisamos os mais infelizes, identificamos que existem uma grande quandidade de regiões infelizes com pouca corrupção."
   ]
  },
  {
   "cell_type": "code",
   "execution_count": 55,
   "metadata": {
    "scrolled": false
   },
   "outputs": [
    {
     "data": {
      "text/plain": [
       "(array([0, 1, 2, 3, 4, 5, 6, 7, 8, 9]), <a list of 10 Text xticklabel objects>)"
      ]
     },
     "execution_count": 55,
     "metadata": {},
     "output_type": "execute_result"
    },
    {
     "data": {
      "image/png": "[encoded data removed]",
      "text/plain": [
       "<Figure size 432x288 with 1 Axes>"
      ]
     },
     "metadata": {
      "needs_background": "light"
     },
     "output_type": "display_data"
    }
   ],
   "source": [
    "sns.boxplot(x=\"Region\", y=\"Generosity\", hue=\"Status\", palette=[\"m\", \"r\"], data=df)\n",
    "sns.despine(offset=10, trim=True)\n",
    "plt.xticks(rotation=90)"
   ]
  },
  {
   "cell_type": "markdown",
   "metadata": {},
   "source": [
    "A generosidade também mostra-se pouco relevante para a definição das categorias, Feliz ou Infeliz"
   ]
  },
  {
   "cell_type": "markdown",
   "metadata": {},
   "source": [
    "### Uma rápida representação do posicionamento geográfico da região menos feliz."
   ]
  },
  {
   "cell_type": "markdown",
   "metadata": {},
   "source": [
    "<img src=\"https://www.eoi.es/blogs/lauraambros/files/2012/01/Map_-_Africa_LRG.jpg\" alt=\"HTML tutorial\" width=\"600\" height=\"600\" />"
   ]
  },
  {
   "cell_type": "markdown",
   "metadata": {},
   "source": [
    "\"https://www.eoi.es/blogs/lauraambros/files/2012/01/Map_-_Africa_LRG.jpg\""
   ]
  },
  {
   "cell_type": "markdown",
   "metadata": {},
   "source": [
    "Obs.: É importante ressaltar que a grande quantidade de dados em regiões infelizes, faz com que a média de nossos dados seja puxada para baixo. Portando, entendo que os dados estão desbalanceados, se contrastados com regiões com poucos registros de dados na pesquisa."
   ]
  },
  {
   "cell_type": "markdown",
   "metadata": {},
   "source": [
    "### Separando variáveis X e Y"
   ]
  },
  {
   "cell_type": "code",
   "execution_count": 56,
   "metadata": {},
   "outputs": [],
   "source": [
    "df=df_bin.drop('Region', axis=1)"
   ]
  },
  {
   "cell_type": "code",
   "execution_count": 57,
   "metadata": {
    "scrolled": true
   },
   "outputs": [],
   "source": [
    "X = df.drop(['Status'], axis=1).values\n",
    "Y = df['Status'].values"
   ]
  },
  {
   "cell_type": "code",
   "execution_count": 58,
   "metadata": {
    "scrolled": false
   },
   "outputs": [
    {
     "data": {
      "text/plain": [
       "array([[-1.3382022 , -2.35996374,  0.25470736, ...,  1.        ,\n",
       "         0.        ,  0.        ],\n",
       "       [ 0.08654739, -1.12100464,  0.78769595, ...,  0.        ,\n",
       "         0.        ,  0.        ],\n",
       "       [ 0.26866028,  0.02497667,  0.66505693, ...,  0.        ,\n",
       "         0.        ,  0.        ],\n",
       "       ...,\n",
       "       [-1.01430773, -0.72432123,  0.36544018, ...,  0.        ,\n",
       "         0.        ,  0.        ],\n",
       "       [-0.81230456, -0.48407657,  0.30276118, ...,  0.        ,\n",
       "         1.        ,  0.        ],\n",
       "       [-1.37020506, -0.21363592,  0.27440275, ...,  0.        ,\n",
       "         1.        ,  0.        ]])"
      ]
     },
     "execution_count": 58,
     "metadata": {},
     "output_type": "execute_result"
    }
   ],
   "source": [
    "X"
   ]
  },
  {
   "cell_type": "code",
   "execution_count": 59,
   "metadata": {},
   "outputs": [
    {
     "data": {
      "text/plain": [
       "array([1, 1, 0, 1, 0, 1, 0, 0, 0, 0, 1, 0, 0, 0, 1, 0, 0, 0, 1, 0, 1, 1,\n",
       "       1, 1, 1, 0, 1, 1, 0, 0, 0, 1, 1, 1, 0, 0, 0, 0, 0, 1, 0, 0, 1, 0,\n",
       "       0, 1, 0, 0, 1, 1, 0, 1, 0, 0, 1, 1, 0, 0, 0, 0, 1, 0, 1, 1, 0, 0,\n",
       "       0, 1, 0, 0, 0, 0, 1, 0, 0, 0, 1, 0, 0, 1, 1, 0, 0, 0, 0, 1, 1, 0,\n",
       "       1, 0, 1, 0, 0, 0, 0, 0, 0, 1, 1, 1, 1, 0, 0, 0, 1, 0, 0, 0, 0, 0,\n",
       "       1, 0, 0, 0, 0, 0, 0, 0, 0, 0, 0, 1, 0, 1, 0, 1, 0, 0, 0, 0, 0, 0,\n",
       "       1, 0, 1, 0, 1, 1, 0, 1, 0, 0, 1, 0, 0, 1, 0, 1, 0, 1, 0, 0, 1, 1,\n",
       "       0, 0, 0, 0, 0, 0, 0, 1, 1, 1])"
      ]
     },
     "execution_count": 59,
     "metadata": {},
     "output_type": "execute_result"
    }
   ],
   "source": [
    "Y"
   ]
  },
  {
   "cell_type": "markdown",
   "metadata": {},
   "source": [
    "### Separando em amostras de treino e teste"
   ]
  },
  {
   "cell_type": "code",
   "execution_count": 60,
   "metadata": {},
   "outputs": [],
   "source": [
    "from sklearn.model_selection import train_test_split"
   ]
  },
  {
   "cell_type": "code",
   "execution_count": 61,
   "metadata": {},
   "outputs": [],
   "source": [
    "X_treino,X_teste,Y_treino,Y_teste=train_test_split(X,Y,test_size=0.25,random_state=42)"
   ]
  },
  {
   "cell_type": "markdown",
   "metadata": {},
   "source": [
    "# RandomForest"
   ]
  },
  {
   "cell_type": "code",
   "execution_count": 62,
   "metadata": {},
   "outputs": [],
   "source": [
    "from sklearn.ensemble import RandomForestClassifier"
   ]
  },
  {
   "cell_type": "code",
   "execution_count": 63,
   "metadata": {},
   "outputs": [],
   "source": [
    "modelo = RandomForestClassifier()"
   ]
  },
  {
   "cell_type": "code",
   "execution_count": 64,
   "metadata": {},
   "outputs": [
    {
     "data": {
      "text/plain": [
       "RandomForestClassifier(bootstrap=True, ccp_alpha=0.0, class_weight=None,\n",
       "                       criterion='gini', max_depth=None, max_features='auto',\n",
       "                       max_leaf_nodes=None, max_samples=None,\n",
       "                       min_impurity_decrease=0.0, min_impurity_split=None,\n",
       "                       min_samples_leaf=1, min_samples_split=2,\n",
       "                       min_weight_fraction_leaf=0.0, n_estimators=100,\n",
       "                       n_jobs=None, oob_score=False, random_state=None,\n",
       "                       verbose=0, warm_start=False)"
      ]
     },
     "execution_count": 64,
     "metadata": {},
     "output_type": "execute_result"
    }
   ],
   "source": [
    "modelo.fit(X_treino,Y_treino)"
   ]
  },
  {
   "cell_type": "markdown",
   "metadata": {},
   "source": [
    "### Determinando acurácia na amostra de treino"
   ]
  },
  {
   "cell_type": "code",
   "execution_count": 65,
   "metadata": {},
   "outputs": [],
   "source": [
    "score_treino = modelo.score(X_treino,Y_treino)"
   ]
  },
  {
   "cell_type": "code",
   "execution_count": 66,
   "metadata": {},
   "outputs": [
    {
     "data": {
      "text/plain": [
       "1.0"
      ]
     },
     "execution_count": 66,
     "metadata": {},
     "output_type": "execute_result"
    }
   ],
   "source": [
    "score_treino\n"
   ]
  },
  {
   "cell_type": "markdown",
   "metadata": {},
   "source": [
    "### Prevendo amostras de teste"
   ]
  },
  {
   "cell_type": "code",
   "execution_count": 67,
   "metadata": {},
   "outputs": [],
   "source": [
    "Y_previsto = modelo.predict(X_teste)"
   ]
  },
  {
   "cell_type": "code",
   "execution_count": 68,
   "metadata": {},
   "outputs": [],
   "source": [
    "score_teste = modelo.score(X_teste,Y_teste)"
   ]
  },
  {
   "cell_type": "code",
   "execution_count": 69,
   "metadata": {},
   "outputs": [
    {
     "data": {
      "text/plain": [
       "0.9512195121951219"
      ]
     },
     "execution_count": 69,
     "metadata": {},
     "output_type": "execute_result"
    }
   ],
   "source": [
    "score_teste\n"
   ]
  },
  {
   "cell_type": "markdown",
   "metadata": {},
   "source": [
    "### Confusion Matrix"
   ]
  },
  {
   "cell_type": "code",
   "execution_count": 70,
   "metadata": {},
   "outputs": [],
   "source": [
    "from sklearn.metrics import confusion_matrix"
   ]
  },
  {
   "cell_type": "code",
   "execution_count": 71,
   "metadata": {},
   "outputs": [],
   "source": [
    "cm=confusion_matrix(Y_teste,Y_previsto)\n"
   ]
  },
  {
   "cell_type": "code",
   "execution_count": 72,
   "metadata": {},
   "outputs": [
    {
     "data": {
      "text/plain": [
       "array([[23,  1],\n",
       "       [ 1, 16]], dtype=int64)"
      ]
     },
     "execution_count": 72,
     "metadata": {},
     "output_type": "execute_result"
    }
   ],
   "source": [
    "cm\n"
   ]
  },
  {
   "cell_type": "code",
   "execution_count": 73,
   "metadata": {},
   "outputs": [
    {
     "data": {
      "text/plain": [
       "<matplotlib.axes._subplots.AxesSubplot at 0x137a89e5c88>"
      ]
     },
     "execution_count": 73,
     "metadata": {},
     "output_type": "execute_result"
    },
    {
     "data": {
      "image/png": "[encoded data removed]",
      "text/plain": [
       "<Figure size 432x288 with 2 Axes>"
      ]
     },
     "metadata": {
      "needs_background": "light"
     },
     "output_type": "display_data"
    }
   ],
   "source": [
    "sns.heatmap(cm,annot=True, fmt=\"d\")"
   ]
  },
  {
   "cell_type": "markdown",
   "metadata": {},
   "source": [
    "Neste caso, observa-se que o modelo mostrou um desempenho muito bom quando comparado com seus erros"
   ]
  },
  {
   "cell_type": "code",
   "execution_count": 74,
   "metadata": {},
   "outputs": [],
   "source": [
    "from sklearn.metrics import classification_report,f1_score,precision_score,average_precision_score,recall_score,accuracy_score"
   ]
  },
  {
   "cell_type": "code",
   "execution_count": 75,
   "metadata": {},
   "outputs": [
    {
     "name": "stdout",
     "output_type": "stream",
     "text": [
      "              precision    recall  f1-score   support\n",
      "\n",
      "           0       0.96      0.96      0.96        24\n",
      "           1       0.94      0.94      0.94        17\n",
      "\n",
      "    accuracy                           0.95        41\n",
      "   macro avg       0.95      0.95      0.95        41\n",
      "weighted avg       0.95      0.95      0.95        41\n",
      "\n"
     ]
    }
   ],
   "source": [
    "cr = classification_report(Y_teste,Y_previsto,labels=[0,1])\n",
    "print(cr)"
   ]
  },
  {
   "cell_type": "markdown",
   "metadata": {},
   "source": [
    "### F1-score"
   ]
  },
  {
   "cell_type": "code",
   "execution_count": 76,
   "metadata": {},
   "outputs": [
    {
     "name": "stdout",
     "output_type": "stream",
     "text": [
      "F1 score = 94.12%\n"
     ]
    }
   ],
   "source": [
    "f1 = f1_score(Y_teste,Y_previsto)\n",
    "print(\"F1 score = {:0.2f}%\".format(f1*100))"
   ]
  },
  {
   "cell_type": "markdown",
   "metadata": {},
   "source": [
    "### Precision Score"
   ]
  },
  {
   "cell_type": "code",
   "execution_count": 77,
   "metadata": {},
   "outputs": [
    {
     "name": "stdout",
     "output_type": "stream",
     "text": [
      "Precision score = 94.12%\n"
     ]
    }
   ],
   "source": [
    "precisao = precision_score(Y_teste,Y_previsto)\n",
    "print(\"Precision score = {:0.2f}%\".format(precisao*100))"
   ]
  },
  {
   "cell_type": "markdown",
   "metadata": {},
   "source": [
    "### Average precision score"
   ]
  },
  {
   "cell_type": "code",
   "execution_count": 78,
   "metadata": {},
   "outputs": [
    {
     "name": "stdout",
     "output_type": "stream",
     "text": [
      "Averaged Precision Score = 91.02%\n"
     ]
    }
   ],
   "source": [
    "avg_precision = average_precision_score (Y_teste,Y_previsto)\n",
    "print(\"Averaged Precision Score = {:0.2f}%\".format(avg_precision*100))"
   ]
  },
  {
   "cell_type": "markdown",
   "metadata": {},
   "source": [
    "### Recall score"
   ]
  },
  {
   "cell_type": "code",
   "execution_count": 79,
   "metadata": {},
   "outputs": [
    {
     "name": "stdout",
     "output_type": "stream",
     "text": [
      "Recall score = 94.12%\n"
     ]
    }
   ],
   "source": [
    "rec = recall_score (Y_teste,Y_previsto)\n",
    "print(\"Recall score = {:0.2f}%\".format(rec*100))"
   ]
  },
  {
   "cell_type": "markdown",
   "metadata": {},
   "source": [
    "### Accuracy Score"
   ]
  },
  {
   "cell_type": "code",
   "execution_count": 80,
   "metadata": {},
   "outputs": [
    {
     "name": "stdout",
     "output_type": "stream",
     "text": [
      "Recall score = 95.12%\n"
     ]
    }
   ],
   "source": [
    "acc = accuracy_score (Y_teste,Y_previsto)\n",
    "print(\"Recall score = {:0.2f}%\".format(acc*100))"
   ]
  },
  {
   "cell_type": "markdown",
   "metadata": {},
   "source": [
    "O modelo atual apresentou uma boa precisão indicando que o seu uso pode ser adequado dada ao baixo nível\n",
    "de criticidade desta análise.  "
   ]
  },
  {
   "cell_type": "markdown",
   "metadata": {},
   "source": [
    "## **Curva ROC**\n"
   ]
  },
  {
   "cell_type": "code",
   "execution_count": 81,
   "metadata": {},
   "outputs": [],
   "source": [
    "from sklearn.metrics import roc_curve, roc_auc_score"
   ]
  },
  {
   "cell_type": "code",
   "execution_count": 82,
   "metadata": {},
   "outputs": [
    {
     "name": "stdout",
     "output_type": "stream",
     "text": [
      "ROC score = 94.98%\n"
     ]
    }
   ],
   "source": [
    "roc_score = roc_auc_score(Y_teste, Y_previsto)\n",
    "print(\"ROC score = {:.2f}%\".format(roc_score*100))"
   ]
  },
  {
   "cell_type": "code",
   "execution_count": 83,
   "metadata": {},
   "outputs": [],
   "source": [
    "roc_fpr, roc_tpr, _ = roc_curve(Y_teste, Y_previsto)"
   ]
  },
  {
   "cell_type": "code",
   "execution_count": 84,
   "metadata": {},
   "outputs": [
    {
     "data": {
      "text/plain": [
       "Text(0, 0.5, 'True Positive Rate')"
      ]
     },
     "execution_count": 84,
     "metadata": {},
     "output_type": "execute_result"
    },
    {
     "data": {
      "image/png": "[encoded data removed]",
      "text/plain": [
       "<Figure size 432x288 with 1 Axes>"
      ]
     },
     "metadata": {
      "needs_background": "light"
     },
     "output_type": "display_data"
    }
   ],
   "source": [
    "plt.plot(roc_fpr, roc_tpr, linestyle='--')\n",
    "plt.xlabel('False Positive Rate')\n",
    "plt.ylabel('True Positive Rate')"
   ]
  },
  {
   "cell_type": "markdown",
   "metadata": {},
   "source": [
    "### **Curva Precision-Recall**"
   ]
  },
  {
   "cell_type": "code",
   "execution_count": 85,
   "metadata": {},
   "outputs": [],
   "source": [
    "from sklearn.metrics import precision_recall_curve,auc"
   ]
  },
  {
   "cell_type": "code",
   "execution_count": 86,
   "metadata": {},
   "outputs": [],
   "source": [
    "rf_precision, rf_recall, _ = precision_recall_curve(Y_teste, Y_previsto)\n",
    "rf_auc = auc(rf_recall, rf_precision)"
   ]
  },
  {
   "cell_type": "code",
   "execution_count": 87,
   "metadata": {},
   "outputs": [
    {
     "name": "stdout",
     "output_type": "stream",
     "text": [
      "AUC score = 95.34%\n"
     ]
    }
   ],
   "source": [
    "print(\"AUC score = {:0.2f}%\".format(rf_auc*100))"
   ]
  },
  {
   "cell_type": "code",
   "execution_count": 88,
   "metadata": {},
   "outputs": [
    {
     "data": {
      "text/plain": [
       "Text(0, 0.5, 'Precision')"
      ]
     },
     "execution_count": 88,
     "metadata": {},
     "output_type": "execute_result"
    },
    {
     "data": {
      "image/png": "[encoded data removed]",
      "text/plain": [
       "<Figure size 432x288 with 1 Axes>"
      ]
     },
     "metadata": {
      "needs_background": "light"
     },
     "output_type": "display_data"
    }
   ],
   "source": [
    "plt.plot(rf_recall, rf_precision)\n",
    "plt.xlabel('Recall')\n",
    "plt.ylabel('Precision')"
   ]
  },
  {
   "cell_type": "markdown",
   "metadata": {},
   "source": [
    "# Regressão logística"
   ]
  },
  {
   "cell_type": "code",
   "execution_count": 89,
   "metadata": {},
   "outputs": [],
   "source": [
    "from sklearn.linear_model import LogisticRegression"
   ]
  },
  {
   "cell_type": "code",
   "execution_count": 90,
   "metadata": {},
   "outputs": [],
   "source": [
    "modelo_log = LogisticRegression()"
   ]
  },
  {
   "cell_type": "code",
   "execution_count": 91,
   "metadata": {},
   "outputs": [
    {
     "data": {
      "text/plain": [
       "LogisticRegression(C=1.0, class_weight=None, dual=False, fit_intercept=True,\n",
       "                   intercept_scaling=1, l1_ratio=None, max_iter=100,\n",
       "                   multi_class='auto', n_jobs=None, penalty='l2',\n",
       "                   random_state=None, solver='lbfgs', tol=0.0001, verbose=0,\n",
       "                   warm_start=False)"
      ]
     },
     "execution_count": 91,
     "metadata": {},
     "output_type": "execute_result"
    }
   ],
   "source": [
    "\n",
    "modelo_log.fit(X_treino,Y_treino)"
   ]
  },
  {
   "cell_type": "code",
   "execution_count": 92,
   "metadata": {},
   "outputs": [],
   "source": [
    "Y_previsto_log = modelo_log.predict(X_teste)"
   ]
  },
  {
   "cell_type": "code",
   "execution_count": 93,
   "metadata": {},
   "outputs": [
    {
     "data": {
      "text/plain": [
       "array([[23,  1],\n",
       "       [ 4, 13]], dtype=int64)"
      ]
     },
     "execution_count": 93,
     "metadata": {},
     "output_type": "execute_result"
    }
   ],
   "source": [
    "cm_log =confusion_matrix(Y_teste,Y_previsto_log)\n",
    "cm_log"
   ]
  },
  {
   "cell_type": "code",
   "execution_count": 94,
   "metadata": {},
   "outputs": [
    {
     "data": {
      "text/plain": [
       "<matplotlib.axes._subplots.AxesSubplot at 0x137a8f69a88>"
      ]
     },
     "execution_count": 94,
     "metadata": {},
     "output_type": "execute_result"
    },
    {
     "data": {
      "image/png": "[encoded data removed]",
      "text/plain": [
       "<Figure size 432x288 with 2 Axes>"
      ]
     },
     "metadata": {
      "needs_background": "light"
     },
     "output_type": "display_data"
    }
   ],
   "source": [
    "sns.heatmap(cm_log,annot=True, fmt=\"d\", cmap=\"Blues\")"
   ]
  },
  {
   "cell_type": "code",
   "execution_count": 95,
   "metadata": {},
   "outputs": [
    {
     "name": "stdout",
     "output_type": "stream",
     "text": [
      "              precision    recall  f1-score   support\n",
      "\n",
      "           0       0.85      0.96      0.90        24\n",
      "           1       0.93      0.76      0.84        17\n",
      "\n",
      "    accuracy                           0.88        41\n",
      "   macro avg       0.89      0.86      0.87        41\n",
      "weighted avg       0.88      0.88      0.88        41\n",
      "\n"
     ]
    }
   ],
   "source": [
    "cr_log = classification_report(Y_teste,Y_previsto_log,labels=[0,1])\n",
    "print(cr_log)"
   ]
  },
  {
   "cell_type": "markdown",
   "metadata": {},
   "source": [
    "### F1-score"
   ]
  },
  {
   "cell_type": "code",
   "execution_count": 96,
   "metadata": {},
   "outputs": [
    {
     "name": "stdout",
     "output_type": "stream",
     "text": [
      "F1 score = 83.87%\n"
     ]
    }
   ],
   "source": [
    "f1_log = f1_score(Y_teste,Y_previsto_log)\n",
    "print(\"F1 score = {:0.2f}%\".format(f1_log*100))"
   ]
  },
  {
   "cell_type": "markdown",
   "metadata": {},
   "source": [
    "### Precision Score"
   ]
  },
  {
   "cell_type": "code",
   "execution_count": 97,
   "metadata": {},
   "outputs": [
    {
     "name": "stdout",
     "output_type": "stream",
     "text": [
      "Precision score = 92.86%\n"
     ]
    }
   ],
   "source": [
    "precisao_log = precision_score(Y_teste,Y_previsto_log)\n",
    "print(\"Precision score = {:0.2f}%\".format(precisao_log*100))"
   ]
  },
  {
   "cell_type": "markdown",
   "metadata": {},
   "source": [
    "### Average precision score\n"
   ]
  },
  {
   "cell_type": "code",
   "execution_count": 98,
   "metadata": {},
   "outputs": [
    {
     "name": "stdout",
     "output_type": "stream",
     "text": [
      "Averaged Precision score = 80.76%\n"
     ]
    }
   ],
   "source": [
    "avg_precision_log = average_precision_score(Y_teste,Y_previsto_log)\n",
    "print(\"Averaged Precision score = {:0.2f}%\".format(avg_precision_log*100))"
   ]
  },
  {
   "cell_type": "markdown",
   "metadata": {},
   "source": [
    "### Recall score\n"
   ]
  },
  {
   "cell_type": "code",
   "execution_count": 99,
   "metadata": {},
   "outputs": [
    {
     "name": "stdout",
     "output_type": "stream",
     "text": [
      "Recall score = 76.47%\n"
     ]
    }
   ],
   "source": [
    "rec_log = recall_score(Y_teste,Y_previsto_log)\n",
    "print(\"Recall score = {:0.2f}%\".format(rec_log*100))"
   ]
  },
  {
   "cell_type": "markdown",
   "metadata": {},
   "source": [
    "### Accuracy Score"
   ]
  },
  {
   "cell_type": "code",
   "execution_count": 100,
   "metadata": {},
   "outputs": [
    {
     "name": "stdout",
     "output_type": "stream",
     "text": [
      "Accuracy score = 95.12%\n"
     ]
    }
   ],
   "source": [
    "acc_log = accuracy_score(Y_teste,Y_previsto)\n",
    "print(\"Accuracy score = {:0.2f}%\".format(acc_log*100))"
   ]
  },
  {
   "cell_type": "markdown",
   "metadata": {},
   "source": [
    "# Curva ROC (Regressão Logística)"
   ]
  },
  {
   "cell_type": "code",
   "execution_count": 101,
   "metadata": {},
   "outputs": [
    {
     "name": "stdout",
     "output_type": "stream",
     "text": [
      "ROC score = 86.15%\n"
     ]
    }
   ],
   "source": [
    "roc_score_log = roc_auc_score(Y_teste, Y_previsto_log)\n",
    "print(\"ROC score = {:0.2f}%\".format(roc_score_log*100))"
   ]
  },
  {
   "cell_type": "code",
   "execution_count": 102,
   "metadata": {},
   "outputs": [],
   "source": [
    "roc_fpr_log, roc_tpr_log, _ = roc_curve(Y_teste, Y_previsto_log)"
   ]
  },
  {
   "cell_type": "code",
   "execution_count": 103,
   "metadata": {},
   "outputs": [
    {
     "data": {
      "text/plain": [
       "Text(0, 0.5, 'True Positive Rate')"
      ]
     },
     "execution_count": 103,
     "metadata": {},
     "output_type": "execute_result"
    },
    {
     "data": {
      "image/png": "[encoded data removed]",
      "text/plain": [
       "<Figure size 432x288 with 1 Axes>"
      ]
     },
     "metadata": {
      "needs_background": "light"
     },
     "output_type": "display_data"
    }
   ],
   "source": [
    "log_plt = plt.plot(roc_fpr_log, roc_tpr_log, linestyle='--')\n",
    "plt.xlabel('False Positive Rate')\n",
    "plt.ylabel('True Positive Rate')"
   ]
  },
  {
   "cell_type": "code",
   "execution_count": 104,
   "metadata": {},
   "outputs": [],
   "source": [
    "lr_precision_log, lr_recall_log, _ = precision_recall_curve(Y_teste, Y_previsto)\n",
    "lr_auc_log = auc(lr_recall_log, lr_precision_log)"
   ]
  },
  {
   "cell_type": "code",
   "execution_count": 105,
   "metadata": {},
   "outputs": [
    {
     "name": "stdout",
     "output_type": "stream",
     "text": [
      "AUC score = 95.34%\n"
     ]
    }
   ],
   "source": [
    "print(\"AUC score = {:0.2f}%\".format(lr_auc_log*100))"
   ]
  },
  {
   "cell_type": "code",
   "execution_count": 106,
   "metadata": {},
   "outputs": [
    {
     "data": {
      "text/plain": [
       "Text(0, 0.5, 'Precision')"
      ]
     },
     "execution_count": 106,
     "metadata": {},
     "output_type": "execute_result"
    },
    {
     "data": {
      "image/png": "[encoded data removed]",
      "text/plain": [
       "<Figure size 432x288 with 1 Axes>"
      ]
     },
     "metadata": {
      "needs_background": "light"
     },
     "output_type": "display_data"
    }
   ],
   "source": [
    "plt.plot(lr_recall_log, lr_precision_log)\n",
    "plt.xlabel('Recall')\n",
    "plt.ylabel('Precision')"
   ]
  },
  {
   "cell_type": "markdown",
   "metadata": {},
   "source": [
    "## Comparando modelos"
   ]
  },
  {
   "cell_type": "code",
   "execution_count": 107,
   "metadata": {},
   "outputs": [
    {
     "data": {
      "image/png": "[encoded data removed]",
      "text/plain": [
       "<Figure size 432x288 with 1 Axes>"
      ]
     },
     "metadata": {
      "needs_background": "light"
     },
     "output_type": "display_data"
    }
   ],
   "source": [
    "plt.plot(roc_fpr, roc_tpr, linestyle='--', label='RandomForest (ROC = %0.3f)' % roc_score )\n",
    "plt.plot(roc_fpr_log, roc_tpr_log, marker='_', label='Logistic Regression (ROC = %0.3f)' % roc_score_log)\n",
    "# Title\n",
    "plt.title('ROC Plot')\n",
    "# Axis labels\n",
    "plt.xlabel('False Positive Rate')\n",
    "plt.ylabel('True Positive Rate')\n",
    "# Show legend\n",
    "plt.legend() # \n",
    "# Show plot\n",
    "plt.show()"
   ]
  },
  {
   "cell_type": "code",
   "execution_count": 108,
   "metadata": {},
   "outputs": [
    {
     "name": "stdout",
     "output_type": "stream",
     "text": [
      "              precision    recall  f1-score   support\n",
      "\n",
      "           0       0.96      0.96      0.96        24\n",
      "           1       0.94      0.94      0.94        17\n",
      "\n",
      "    accuracy                           0.95        41\n",
      "   macro avg       0.95      0.95      0.95        41\n",
      "weighted avg       0.95      0.95      0.95        41\n",
      "\n"
     ]
    }
   ],
   "source": [
    "print(cr)"
   ]
  },
  {
   "cell_type": "code",
   "execution_count": 109,
   "metadata": {},
   "outputs": [
    {
     "name": "stdout",
     "output_type": "stream",
     "text": [
      "              precision    recall  f1-score   support\n",
      "\n",
      "           0       0.85      0.96      0.90        24\n",
      "           1       0.93      0.76      0.84        17\n",
      "\n",
      "    accuracy                           0.88        41\n",
      "   macro avg       0.89      0.86      0.87        41\n",
      "weighted avg       0.88      0.88      0.88        41\n",
      "\n"
     ]
    }
   ],
   "source": [
    "print(cr_log)"
   ]
  },
  {
   "cell_type": "markdown",
   "metadata": {},
   "source": [
    "<!DOCTYPE html>\n",
    "<html>\n",
    "  <head>\n",
    "    <!-- ... -->\n",
    "  </head>\n",
    "  <body>\n",
    "    <figure>\n",
    "          <embed type=\"image/svg+xml\" src=\"http://localhost:8888/files/TCC%20-%20World%20Hapiness%20Report%202015-2019/bar_chart.svg\" />\n",
    "    </figure>\n",
    "  </body>\n",
    "</html>"
   ]
  },
  {
   "cell_type": "markdown",
   "metadata": {},
   "source": [
    "Persistindo o melhor modelo em disco"
   ]
  },
  {
   "cell_type": "code",
   "execution_count": 110,
   "metadata": {},
   "outputs": [],
   "source": [
    "#from sklearn.externals import joblib\n",
    "import pickle\n",
    "pickle.dump(modelo, open('modelo2.plk', 'wb'), protocol=4)"
   ]
  },
  {
   "cell_type": "code",
   "execution_count": 111,
   "metadata": {},
   "outputs": [
    {
     "name": "stdout",
     "output_type": "stream",
     "text": [
      " O volume na unidade C é SISTEMA\n",
      " O Número de Série do Volume é 4CAF-AC82\n",
      "\n",
      " Pasta de C:\\Users\\Ale Souza\\TCC - World Hapiness Report 2015-2019\n",
      "\n",
      "14/09/2020  09:02    <DIR>          .\n",
      "14/09/2020  09:02    <DIR>          ..\n",
      "14/09/2020  00:31    <DIR>          .ipynb_checkpoints\n",
      "19/07/2020  11:16            16.557 2015.csv\n",
      "19/07/2020  11:16            17.132 2016.csv\n",
      "19/07/2020  11:16            29.536 2017.csv\n",
      "19/07/2020  11:16             8.809 2018.csv\n",
      "19/07/2020  11:16             8.822 2019.csv\n",
      "11/09/2020  22:12            17.322 bar_chart.svg\n",
      "13/09/2020  15:07             5.282 Flask Primeiros passos.ipynb\n",
      "02/08/2020  20:40            34.960 Happiness.ipynb\n",
      "14/09/2020  00:40             4.848 importação - modelo.ipynb\n",
      "14/09/2020  00:16           228.485 modelo.pkl\n",
      "14/09/2020  09:03           225.917 modelo2.plk\n",
      "13/09/2020  15:05               156 primeiro_app.html\n",
      "10/09/2020  18:51           628.119 Projeto_Alessandro_09-09-2020 (1).ipynb\n",
      "14/09/2020  09:02           741.403 Projeto_Alessandro_13-09-2020 (Extração modelo).ipynb\n",
      "01/09/2020  21:05            80.336 Projeto_Alessandro_atualizado.ipynb\n",
      "11/09/2020  20:50           645.495 Projeto_Alessandro_atualizado-Copy1.ipynb\n",
      "01/09/2020  22:43            41.325 ROC_curve.ipynb\n",
      "18/08/2020  21:34            34.257 semana-10-ml-pt1.ipynb\n",
      "12/09/2020  14:57             1.693 srv.py\n",
      "12/09/2020  14:20             3.701 Untitled.ipynb\n",
      "30/07/2020  21:11           856.799 Untitled-Copy1.ipynb\n",
      "              21 arquivo(s)      3.630.954 bytes\n",
      "               3 pasta(s)   89.480.724.480 bytes disponíveis\n"
     ]
    }
   ],
   "source": [
    "ls"
   ]
  },
  {
   "cell_type": "code",
   "execution_count": null,
   "metadata": {},
   "outputs": [],
   "source": []
  }
 ],
 "metadata": {
  "kernelspec": {
   "display_name": "Python 3",
   "language": "python",
   "name": "python3"
  },
  "language_info": {
   "codemirror_mode": {
    "name": "ipython",
    "version": 3
   },
   "file_extension": ".py",
   "mimetype": "text/x-python",
   "name": "python",
   "nbconvert_exporter": "python",
   "pygments_lexer": "ipython3",
   "version": "3.7.6"
  }
 },
 "nbformat": 4,
 "nbformat_minor": 4
}
